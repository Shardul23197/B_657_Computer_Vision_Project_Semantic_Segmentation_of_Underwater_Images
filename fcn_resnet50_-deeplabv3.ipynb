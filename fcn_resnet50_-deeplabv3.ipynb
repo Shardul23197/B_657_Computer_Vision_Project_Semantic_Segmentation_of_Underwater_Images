{
 "cells": [
  {
   "cell_type": "code",
   "execution_count": 16,
   "metadata": {},
   "outputs": [],
   "source": [
    "from zipfile import ZipFile\n",
    "import torchvision\n",
    "import os\n",
    "from scipy.io import loadmat\n",
    "from sklearn.model_selection import StratifiedShuffleSplit\n",
    "import collections\n",
    "import numpy as np\n",
    "from torch.utils.data import Dataset,DataLoader\n",
    "from torchvision.models.segmentation import fcn_resnet50\n",
    "from torchvision.models.segmentation import deeplabv3_resnet50\n",
    "from torchvision.models.segmentation.deeplabv3 import DeepLabHead\n",
    "\n",
    "import torch\n",
    "import torch.nn as nn\n",
    "import torch.optim as optim\n",
    "from torch.autograd import Variable \n",
    "import matplotlib\n",
    "import matplotlib.pyplot as plt\n",
    "%matplotlib inline"
   ]
  },
  {
   "cell_type": "code",
   "execution_count": 2,
   "metadata": {},
   "outputs": [],
   "source": [
    "# # specifying the zip file name\n",
    "# file_name = \"underwater_sem_seg.zip\"\n",
    "# #\n",
    "# # # opening the zip file in READ mode\n",
    "# with ZipFile(file_name, 'r') as zip:\n",
    "#     # printing all the contents of the zip file\n",
    "#     zip.printdir()\n",
    "\n",
    "#     # extracting all the files\n",
    "#     print('Extracting all the files now...')\n",
    "#     zip.extractall()\n",
    "#     print('Done!')\n"
   ]
  },
  {
   "cell_type": "code",
   "execution_count": 3,
   "metadata": {},
   "outputs": [],
   "source": [
    "# pip install torchvision"
   ]
  },
  {
   "cell_type": "code",
   "execution_count": 4,
   "metadata": {},
   "outputs": [],
   "source": [
    "# os.listdir(\"underwater_sem_seg/dataset\")"
   ]
  },
  {
   "cell_type": "code",
   "execution_count": 5,
   "metadata": {},
   "outputs": [
    {
     "name": "stdout",
     "output_type": "stream",
     "text": [
      "['dolphin_sem_seg_gt', 'crocodile_sem_seg_gt', 'seal_sem_seg_gt', 'sea_anemone_sem_seg_gt', 'squid_sem_seg_gt', 'turtle_sem_seg_gt', 'sea_urchin_sem_seg_gt', 'penguin_sem_seg_gt', 'whale_sem_seg_gt', 'frog_sem_seg_gt', 'crab_sem_seg_gt', 'otter_sem_seg_gt', 'nettles_sem_seg_gt', 'shark_sem_seg_gt', 'polar_bear_sem_seg_gt', 'shrimp_sem_seg_gt', 'star_fish_sem_seg_gt', 'octopus_sem_seg_gt', 'seahorse_sem_seg_gt', 'stingray_sem_seg_gt', 'nudibranch_sem_seg_gt']\n",
      "['dataset/crocodile_sem_seg_gt', 'dataset/seal_sem_seg_gt', 'dataset/sea_anemone_sem_seg_gt', 'dataset/squid_sem_seg_gt', 'dataset/turtle_sem_seg_gt', 'dataset/sea_urchin_sem_seg_gt', 'dataset/penguin_sem_seg_gt', 'dataset/whale_sem_seg_gt', 'dataset/frog_sem_seg_gt', 'dataset/crab_sem_seg_gt', 'dataset/otter_sem_seg_gt', 'dataset/nettles_sem_seg_gt', 'dataset/shark_sem_seg_gt', 'dataset/polar_bear_sem_seg_gt', 'dataset/shrimp_sem_seg_gt', 'dataset/star_fish_sem_seg_gt', 'dataset/octopus_sem_seg_gt', 'dataset/seahorse_sem_seg_gt', 'dataset/stingray_sem_seg_gt', 'dataset/nudibranch_sem_seg_gt']\n",
      "545\n",
      "(500, 1120, 3)\n"
     ]
    }
   ],
   "source": [
    "root = \"dataset\"\n",
    "\n",
    "entries = os.listdir(root)\n",
    "entries.remove(\"indices_files\")\n",
    "entries.remove('.DS_Store')\n",
    "print(entries)\n",
    "folders = [root+\"/\"+i for i in entries[1:]]\n",
    "print(folders)\n",
    "# entries = os.listdir(folders[0])\n",
    "# print(entries)\n",
    "images = []\n",
    "masks = []\n",
    "imclasses = []\n",
    "for folder in folders:\n",
    "    entries = os.listdir(folder)\n",
    "    for image_data in entries:\n",
    "#         print(folder+\"/\"+image_data)\n",
    "        mat = loadmat(folder+\"/\"+image_data)\n",
    "        # print(mat)\n",
    "        images.append(np.asarray(mat[\"image_array\"]))\n",
    "        imclasses.append(mat[\"class\"])\n",
    "        masks.append(np.asarray(mat[\"mask_array\"]))\n",
    "        # images.append((imclass,image,mask_array))\n",
    "    # break\n",
    "\n",
    "print(len(images))\n",
    "print(images[0].shape)\n"
   ]
  },
  {
   "cell_type": "code",
   "execution_count": 6,
   "metadata": {},
   "outputs": [
    {
     "name": "stdout",
     "output_type": "stream",
     "text": [
      "[239 132 498 167 198 147  75  42 310  77  46 452 377   5  76 212 207 327\n",
      " 216 173 525 168 456 106 382 172 264 467 252 245 401 362 436 428 238  12\n",
      " 371 295 126 100   9 483 300 373 331 309 383 236 503 519 347 136  81 351\n",
      " 274  61 332 352 412 200 258 337 187 299 291 493 439 495 284 279 162 145\n",
      " 330 133 321 532  20 434 390 505 208 257  29 192  72 153  88  79 157 447\n",
      "  95 513 464 181 437 536 289 408 342 215  82  97  68 250 453 266 308 422\n",
      " 480  58 312 344 163 221 165 127 288 267 396  11 405 211  17 114 445 217\n",
      " 501 230 354 286 459  32 171 520  24 487  57 158 462  86 441  13 335 494\n",
      " 278 323  30  87 326  50 222 255  78 249 397 365 262 241  14 370 508   6\n",
      " 472  67 280  93 231 218 268 387 484 195 395 398  55 148 353 540 334 170\n",
      " 164 491 234 380 107 486   8 199 416  21 209 415 185  45 319 138 213 253\n",
      " 111 502 260 512   0 290 507 414 421 515 443 497 150  64  18 500 374 359\n",
      " 349  41 438 233  73 407 285 142 460 430 235 343 131 130 109  35 124 541\n",
      " 528 322 471  62  10 488 314 341 526  90 413 121 123  85  96  60 406 454\n",
      " 140 448 166  40 193   7 440  80 358 386 210  44 298 435 307 544 159 225\n",
      " 357  33 333 202 409 277 509   2 510 523 175  63 399 189 246 125  36  15\n",
      " 178 229 339 368 224 271 154 533 129 425 137 340  23 197 391 534 269 283\n",
      " 388 535 432 400  31 411 203 346 482   3 360 103 282 316 518 474 424 458\n",
      " 499  92 345  51 144 186 214 461 496  94 369 378 294 115 160 420 161  25\n",
      " 155 201 180 102 273 479 313 381  66 194 292 466  26 379 531 296 538  54\n",
      " 152 543 101 237 251 524 232 139 227  19 122 392 254 516 449 228 135 527\n",
      " 356 116  70 272 419 418 367 146 473 376 530 182 492 306 240 475 542 108\n",
      " 259  83 220 190 329 243 184  37 206 417  43 328 481 446 522 118 504 389\n",
      " 361 304   4 423 176 431 521 477 112  49 134 315  59 119 350 117 188  53\n",
      " 324 293 366 320 223 348 226 244 105 506 372  47 120 410 478 177 248 261\n",
      "  22 444 450 183 442  56  74  99 270 265 263  38 489 469 384  98 311 297\n",
      " 465  65  89 302 517 404 468 301 141 151 463  52 427  16 281 457 205 385\n",
      " 174 393 305 363] [426 191 317 529 179  27 490 219  91 325   1 470 433 113 537 514 364 169\n",
      " 375 451 247  71  69 204 455 403  48 303 242 287 485 156 336 539 429 511\n",
      " 104 402 143 196 275  84 276 476 355 256  34 110 128 394 149 318 338  39\n",
      "  28]\n",
      "490 55\n",
      "[array(['crab_sem_seg_gt'], dtype='<U15'), array(['turtle_sem_seg_gt'], dtype='<U17'), array(['stingray_sem_seg_gt'], dtype='<U19'), array(['penguin_sem_seg_gt'], dtype='<U18'), array(['whale_sem_seg_gt'], dtype='<U16'), array(['sea_urchin_sem_seg_gt'], dtype='<U21'), array(['sea_anemone_sem_seg_gt'], dtype='<U22'), array(['seal_sem_seg_gt'], dtype='<U15'), array(['nettles_sem_seg_gt'], dtype='<U18'), array(['squid_sem_seg_gt'], dtype='<U16'), array(['seal_sem_seg_gt'], dtype='<U15'), array(['octopus_sem_seg_gt'], dtype='<U18'), array(['polar_bear_sem_seg_gt'], dtype='<U21'), array(['crocodile_sem_seg_gt'], dtype='<U20'), array(['squid_sem_seg_gt'], dtype='<U16'), array(['whale_sem_seg_gt'], dtype='<U16'), array(['whale_sem_seg_gt'], dtype='<U16'), array(['shark_sem_seg_gt'], dtype='<U16'), array(['frog_sem_seg_gt'], dtype='<U15'), array(['penguin_sem_seg_gt'], dtype='<U18'), array(['nudibranch_sem_seg_gt'], dtype='<U21'), array(['penguin_sem_seg_gt'], dtype='<U18'), array(['octopus_sem_seg_gt'], dtype='<U18'), array(['turtle_sem_seg_gt'], dtype='<U17'), array(['shrimp_sem_seg_gt'], dtype='<U17'), array(['penguin_sem_seg_gt'], dtype='<U18'), array(['otter_sem_seg_gt'], dtype='<U16'), array(['octopus_sem_seg_gt'], dtype='<U18'), array(['crab_sem_seg_gt'], dtype='<U15'), array(['crab_sem_seg_gt'], dtype='<U15'), array(['shrimp_sem_seg_gt'], dtype='<U17'), array(['polar_bear_sem_seg_gt'], dtype='<U21'), array(['star_fish_sem_seg_gt'], dtype='<U20'), array(['star_fish_sem_seg_gt'], dtype='<U20'), array(['crab_sem_seg_gt'], dtype='<U15'), array(['crocodile_sem_seg_gt'], dtype='<U20'), array(['polar_bear_sem_seg_gt'], dtype='<U21'), array(['nettles_sem_seg_gt'], dtype='<U18'), array(['turtle_sem_seg_gt'], dtype='<U17'), array(['squid_sem_seg_gt'], dtype='<U16'), array(['crocodile_sem_seg_gt'], dtype='<U20'), array(['seahorse_sem_seg_gt'], dtype='<U19'), array(['nettles_sem_seg_gt'], dtype='<U18'), array(['polar_bear_sem_seg_gt'], dtype='<U21'), array(['shark_sem_seg_gt'], dtype='<U16'), array(['nettles_sem_seg_gt'], dtype='<U18'), array(['shrimp_sem_seg_gt'], dtype='<U17'), array(['crab_sem_seg_gt'], dtype='<U15'), array(['stingray_sem_seg_gt'], dtype='<U19'), array(['nudibranch_sem_seg_gt'], dtype='<U21'), array(['shark_sem_seg_gt'], dtype='<U16'), array(['sea_urchin_sem_seg_gt'], dtype='<U21'), array(['squid_sem_seg_gt'], dtype='<U16'), array(['polar_bear_sem_seg_gt'], dtype='<U21'), array(['otter_sem_seg_gt'], dtype='<U16'), array(['sea_anemone_sem_seg_gt'], dtype='<U22'), array(['shark_sem_seg_gt'], dtype='<U16'), array(['polar_bear_sem_seg_gt'], dtype='<U21'), array(['star_fish_sem_seg_gt'], dtype='<U20'), array(['whale_sem_seg_gt'], dtype='<U16'), array(['otter_sem_seg_gt'], dtype='<U16'), array(['shark_sem_seg_gt'], dtype='<U16'), array(['whale_sem_seg_gt'], dtype='<U16'), array(['nettles_sem_seg_gt'], dtype='<U18'), array(['nettles_sem_seg_gt'], dtype='<U18'), array(['stingray_sem_seg_gt'], dtype='<U19'), array(['star_fish_sem_seg_gt'], dtype='<U20'), array(['stingray_sem_seg_gt'], dtype='<U19'), array(['otter_sem_seg_gt'], dtype='<U16'), array(['otter_sem_seg_gt'], dtype='<U16'), array(['penguin_sem_seg_gt'], dtype='<U18'), array(['sea_urchin_sem_seg_gt'], dtype='<U21'), array(['shark_sem_seg_gt'], dtype='<U16'), array(['turtle_sem_seg_gt'], dtype='<U17'), array(['shark_sem_seg_gt'], dtype='<U16'), array(['nudibranch_sem_seg_gt'], dtype='<U21'), array(['crocodile_sem_seg_gt'], dtype='<U20'), array(['star_fish_sem_seg_gt'], dtype='<U20'), array(['shrimp_sem_seg_gt'], dtype='<U17'), array(['stingray_sem_seg_gt'], dtype='<U19'), array(['whale_sem_seg_gt'], dtype='<U16'), array(['crab_sem_seg_gt'], dtype='<U15'), array(['crocodile_sem_seg_gt'], dtype='<U20'), array(['whale_sem_seg_gt'], dtype='<U16'), array(['sea_anemone_sem_seg_gt'], dtype='<U22'), array(['penguin_sem_seg_gt'], dtype='<U18'), array(['squid_sem_seg_gt'], dtype='<U16'), array(['squid_sem_seg_gt'], dtype='<U16'), array(['penguin_sem_seg_gt'], dtype='<U18'), array(['octopus_sem_seg_gt'], dtype='<U18'), array(['squid_sem_seg_gt'], dtype='<U16'), array(['stingray_sem_seg_gt'], dtype='<U19'), array(['octopus_sem_seg_gt'], dtype='<U18'), array(['penguin_sem_seg_gt'], dtype='<U18'), array(['star_fish_sem_seg_gt'], dtype='<U20'), array(['nudibranch_sem_seg_gt'], dtype='<U21'), array(['nettles_sem_seg_gt'], dtype='<U18'), array(['shrimp_sem_seg_gt'], dtype='<U17'), array(['shark_sem_seg_gt'], dtype='<U16'), array(['frog_sem_seg_gt'], dtype='<U15'), array(['squid_sem_seg_gt'], dtype='<U16'), array(['squid_sem_seg_gt'], dtype='<U16'), array(['sea_anemone_sem_seg_gt'], dtype='<U22'), array(['crab_sem_seg_gt'], dtype='<U15'), array(['octopus_sem_seg_gt'], dtype='<U18'), array(['otter_sem_seg_gt'], dtype='<U16'), array(['nettles_sem_seg_gt'], dtype='<U18'), array(['star_fish_sem_seg_gt'], dtype='<U20'), array(['seahorse_sem_seg_gt'], dtype='<U19'), array(['seal_sem_seg_gt'], dtype='<U15'), array(['nettles_sem_seg_gt'], dtype='<U18'), array(['shark_sem_seg_gt'], dtype='<U16'), array(['penguin_sem_seg_gt'], dtype='<U18'), array(['frog_sem_seg_gt'], dtype='<U15'), array(['penguin_sem_seg_gt'], dtype='<U18'), array(['turtle_sem_seg_gt'], dtype='<U17'), array(['nettles_sem_seg_gt'], dtype='<U18'), array(['otter_sem_seg_gt'], dtype='<U16'), array(['shrimp_sem_seg_gt'], dtype='<U17'), array(['crocodile_sem_seg_gt'], dtype='<U20'), array(['shrimp_sem_seg_gt'], dtype='<U17'), array(['whale_sem_seg_gt'], dtype='<U16'), array(['crocodile_sem_seg_gt'], dtype='<U20'), array(['turtle_sem_seg_gt'], dtype='<U17'), array(['octopus_sem_seg_gt'], dtype='<U18'), array(['frog_sem_seg_gt'], dtype='<U15'), array(['stingray_sem_seg_gt'], dtype='<U19'), array(['crab_sem_seg_gt'], dtype='<U15'), array(['polar_bear_sem_seg_gt'], dtype='<U21'), array(['otter_sem_seg_gt'], dtype='<U16'), array(['octopus_sem_seg_gt'], dtype='<U18'), array(['seal_sem_seg_gt'], dtype='<U15'), array(['penguin_sem_seg_gt'], dtype='<U18'), array(['nudibranch_sem_seg_gt'], dtype='<U21'), array(['crocodile_sem_seg_gt'], dtype='<U20'), array(['stingray_sem_seg_gt'], dtype='<U19'), array(['seal_sem_seg_gt'], dtype='<U15'), array(['penguin_sem_seg_gt'], dtype='<U18'), array(['octopus_sem_seg_gt'], dtype='<U18'), array(['squid_sem_seg_gt'], dtype='<U16'), array(['octopus_sem_seg_gt'], dtype='<U18'), array(['crocodile_sem_seg_gt'], dtype='<U20'), array(['shark_sem_seg_gt'], dtype='<U16'), array(['stingray_sem_seg_gt'], dtype='<U19'), array(['otter_sem_seg_gt'], dtype='<U16'), array(['shark_sem_seg_gt'], dtype='<U16'), array(['seal_sem_seg_gt'], dtype='<U15'), array(['squid_sem_seg_gt'], dtype='<U16'), array(['shark_sem_seg_gt'], dtype='<U16'), array(['seal_sem_seg_gt'], dtype='<U15'), array(['frog_sem_seg_gt'], dtype='<U15'), array(['crab_sem_seg_gt'], dtype='<U15'), array(['squid_sem_seg_gt'], dtype='<U16'), array(['crab_sem_seg_gt'], dtype='<U15'), array(['shrimp_sem_seg_gt'], dtype='<U17'), array(['polar_bear_sem_seg_gt'], dtype='<U21'), array(['otter_sem_seg_gt'], dtype='<U16'), array(['crab_sem_seg_gt'], dtype='<U15'), array(['crocodile_sem_seg_gt'], dtype='<U20'), array(['polar_bear_sem_seg_gt'], dtype='<U21'), array(['stingray_sem_seg_gt'], dtype='<U19'), array(['crocodile_sem_seg_gt'], dtype='<U20'), array(['seahorse_sem_seg_gt'], dtype='<U19'), array(['sea_anemone_sem_seg_gt'], dtype='<U22'), array(['otter_sem_seg_gt'], dtype='<U16'), array(['squid_sem_seg_gt'], dtype='<U16'), array(['crab_sem_seg_gt'], dtype='<U15'), array(['frog_sem_seg_gt'], dtype='<U15'), array(['otter_sem_seg_gt'], dtype='<U16'), array(['shrimp_sem_seg_gt'], dtype='<U17'), array(['seahorse_sem_seg_gt'], dtype='<U19'), array(['whale_sem_seg_gt'], dtype='<U16'), array(['shrimp_sem_seg_gt'], dtype='<U17'), array(['shrimp_sem_seg_gt'], dtype='<U17'), array(['seal_sem_seg_gt'], dtype='<U15'), array(['sea_urchin_sem_seg_gt'], dtype='<U21'), array(['polar_bear_sem_seg_gt'], dtype='<U21'), array(['nudibranch_sem_seg_gt'], dtype='<U21'), array(['shark_sem_seg_gt'], dtype='<U16'), array(['penguin_sem_seg_gt'], dtype='<U18'), array(['penguin_sem_seg_gt'], dtype='<U18'), array(['stingray_sem_seg_gt'], dtype='<U19'), array(['crab_sem_seg_gt'], dtype='<U15'), array(['shrimp_sem_seg_gt'], dtype='<U17'), array(['turtle_sem_seg_gt'], dtype='<U17'), array(['stingray_sem_seg_gt'], dtype='<U19'), array(['crocodile_sem_seg_gt'], dtype='<U20'), array(['whale_sem_seg_gt'], dtype='<U16'), array(['star_fish_sem_seg_gt'], dtype='<U20'), array(['crocodile_sem_seg_gt'], dtype='<U20'), array(['whale_sem_seg_gt'], dtype='<U16'), array(['star_fish_sem_seg_gt'], dtype='<U20'), array(['whale_sem_seg_gt'], dtype='<U16'), array(['seal_sem_seg_gt'], dtype='<U15'), array(['shark_sem_seg_gt'], dtype='<U16'), array(['sea_urchin_sem_seg_gt'], dtype='<U21'), array(['frog_sem_seg_gt'], dtype='<U15'), array(['crab_sem_seg_gt'], dtype='<U15'), array(['turtle_sem_seg_gt'], dtype='<U17'), array(['stingray_sem_seg_gt'], dtype='<U19'), array(['otter_sem_seg_gt'], dtype='<U16'), array(['stingray_sem_seg_gt'], dtype='<U19'), array(['crocodile_sem_seg_gt'], dtype='<U20'), array(['nettles_sem_seg_gt'], dtype='<U18'), array(['stingray_sem_seg_gt'], dtype='<U19'), array(['star_fish_sem_seg_gt'], dtype='<U20'), array(['star_fish_sem_seg_gt'], dtype='<U20'), array(['nudibranch_sem_seg_gt'], dtype='<U21'), array(['octopus_sem_seg_gt'], dtype='<U18'), array(['stingray_sem_seg_gt'], dtype='<U19'), array(['sea_urchin_sem_seg_gt'], dtype='<U21'), array(['sea_anemone_sem_seg_gt'], dtype='<U22'), array(['crocodile_sem_seg_gt'], dtype='<U20'), array(['stingray_sem_seg_gt'], dtype='<U19'), array(['polar_bear_sem_seg_gt'], dtype='<U21'), array(['polar_bear_sem_seg_gt'], dtype='<U21'), array(['polar_bear_sem_seg_gt'], dtype='<U21'), array(['seal_sem_seg_gt'], dtype='<U15'), array(['star_fish_sem_seg_gt'], dtype='<U20'), array(['crab_sem_seg_gt'], dtype='<U15'), array(['sea_anemone_sem_seg_gt'], dtype='<U22'), array(['shrimp_sem_seg_gt'], dtype='<U17'), array(['otter_sem_seg_gt'], dtype='<U16'), array(['sea_urchin_sem_seg_gt'], dtype='<U21'), array(['octopus_sem_seg_gt'], dtype='<U18'), array(['star_fish_sem_seg_gt'], dtype='<U20'), array(['crab_sem_seg_gt'], dtype='<U15'), array(['shark_sem_seg_gt'], dtype='<U16'), array(['turtle_sem_seg_gt'], dtype='<U17'), array(['turtle_sem_seg_gt'], dtype='<U17'), array(['turtle_sem_seg_gt'], dtype='<U17'), array(['seal_sem_seg_gt'], dtype='<U15'), array(['turtle_sem_seg_gt'], dtype='<U17'), array(['nudibranch_sem_seg_gt'], dtype='<U21'), array(['nudibranch_sem_seg_gt'], dtype='<U21'), array(['shark_sem_seg_gt'], dtype='<U16'), array(['seahorse_sem_seg_gt'], dtype='<U19'), array(['sea_anemone_sem_seg_gt'], dtype='<U22'), array(['crocodile_sem_seg_gt'], dtype='<U20'), array(['stingray_sem_seg_gt'], dtype='<U19'), array(['nettles_sem_seg_gt'], dtype='<U18'), array(['shark_sem_seg_gt'], dtype='<U16'), array(['nudibranch_sem_seg_gt'], dtype='<U21'), array(['squid_sem_seg_gt'], dtype='<U16'), array(['star_fish_sem_seg_gt'], dtype='<U20'), array(['turtle_sem_seg_gt'], dtype='<U17'), array(['turtle_sem_seg_gt'], dtype='<U17'), array(['squid_sem_seg_gt'], dtype='<U16'), array(['squid_sem_seg_gt'], dtype='<U16'), array(['sea_anemone_sem_seg_gt'], dtype='<U22'), array(['shrimp_sem_seg_gt'], dtype='<U17'), array(['octopus_sem_seg_gt'], dtype='<U18'), array(['sea_urchin_sem_seg_gt'], dtype='<U21'), array(['octopus_sem_seg_gt'], dtype='<U18'), array(['penguin_sem_seg_gt'], dtype='<U18'), array(['seal_sem_seg_gt'], dtype='<U15'), array(['whale_sem_seg_gt'], dtype='<U16'), array(['crocodile_sem_seg_gt'], dtype='<U20'), array(['octopus_sem_seg_gt'], dtype='<U18'), array(['squid_sem_seg_gt'], dtype='<U16'), array(['polar_bear_sem_seg_gt'], dtype='<U21'), array(['shrimp_sem_seg_gt'], dtype='<U17'), array(['whale_sem_seg_gt'], dtype='<U16'), array(['seal_sem_seg_gt'], dtype='<U15'), array(['nettles_sem_seg_gt'], dtype='<U18'), array(['star_fish_sem_seg_gt'], dtype='<U20'), array(['nettles_sem_seg_gt'], dtype='<U18'), array(['nudibranch_sem_seg_gt'], dtype='<U21'), array(['penguin_sem_seg_gt'], dtype='<U18'), array(['frog_sem_seg_gt'], dtype='<U15'), array(['polar_bear_sem_seg_gt'], dtype='<U21'), array(['seal_sem_seg_gt'], dtype='<U15'), array(['shark_sem_seg_gt'], dtype='<U16'), array(['whale_sem_seg_gt'], dtype='<U16'), array(['shrimp_sem_seg_gt'], dtype='<U17'), array(['otter_sem_seg_gt'], dtype='<U16'), array(['stingray_sem_seg_gt'], dtype='<U19'), array(['crocodile_sem_seg_gt'], dtype='<U20'), array(['stingray_sem_seg_gt'], dtype='<U19'), array(['nudibranch_sem_seg_gt'], dtype='<U21'), array(['penguin_sem_seg_gt'], dtype='<U18'), array(['sea_anemone_sem_seg_gt'], dtype='<U22'), array(['shrimp_sem_seg_gt'], dtype='<U17'), array(['whale_sem_seg_gt'], dtype='<U16'), array(['crab_sem_seg_gt'], dtype='<U15'), array(['turtle_sem_seg_gt'], dtype='<U17'), array(['seal_sem_seg_gt'], dtype='<U15'), array(['crocodile_sem_seg_gt'], dtype='<U20'), array(['penguin_sem_seg_gt'], dtype='<U18'), array(['crab_sem_seg_gt'], dtype='<U15'), array(['shark_sem_seg_gt'], dtype='<U16'), array(['polar_bear_sem_seg_gt'], dtype='<U21'), array(['frog_sem_seg_gt'], dtype='<U15'), array(['otter_sem_seg_gt'], dtype='<U16'), array(['penguin_sem_seg_gt'], dtype='<U18'), array(['nudibranch_sem_seg_gt'], dtype='<U21'), array(['turtle_sem_seg_gt'], dtype='<U17'), array(['star_fish_sem_seg_gt'], dtype='<U20'), array(['sea_urchin_sem_seg_gt'], dtype='<U21'), array(['shark_sem_seg_gt'], dtype='<U16'), array(['crocodile_sem_seg_gt'], dtype='<U20'), array(['whale_sem_seg_gt'], dtype='<U16'), array(['shrimp_sem_seg_gt'], dtype='<U17'), array(['nudibranch_sem_seg_gt'], dtype='<U21'), array(['otter_sem_seg_gt'], dtype='<U16'), array(['otter_sem_seg_gt'], dtype='<U16'), array(['shrimp_sem_seg_gt'], dtype='<U17'), array(['nudibranch_sem_seg_gt'], dtype='<U21'), array(['star_fish_sem_seg_gt'], dtype='<U20'), array(['shrimp_sem_seg_gt'], dtype='<U17'), array(['seal_sem_seg_gt'], dtype='<U15'), array(['star_fish_sem_seg_gt'], dtype='<U20'), array(['whale_sem_seg_gt'], dtype='<U16'), array(['shark_sem_seg_gt'], dtype='<U16'), array(['seahorse_sem_seg_gt'], dtype='<U19'), array(['crocodile_sem_seg_gt'], dtype='<U20'), array(['polar_bear_sem_seg_gt'], dtype='<U21'), array(['squid_sem_seg_gt'], dtype='<U16'), array(['otter_sem_seg_gt'], dtype='<U16'), array(['nettles_sem_seg_gt'], dtype='<U18'), array(['nudibranch_sem_seg_gt'], dtype='<U21'), array(['seahorse_sem_seg_gt'], dtype='<U19'), array(['star_fish_sem_seg_gt'], dtype='<U20'), array(['octopus_sem_seg_gt'], dtype='<U18'), array(['stingray_sem_seg_gt'], dtype='<U19'), array(['squid_sem_seg_gt'], dtype='<U16'), array(['shark_sem_seg_gt'], dtype='<U16'), array(['seal_sem_seg_gt'], dtype='<U15'), array(['sea_urchin_sem_seg_gt'], dtype='<U21'), array(['whale_sem_seg_gt'], dtype='<U16'), array(['frog_sem_seg_gt'], dtype='<U15'), array(['octopus_sem_seg_gt'], dtype='<U18'), array(['stingray_sem_seg_gt'], dtype='<U19'), array(['squid_sem_seg_gt'], dtype='<U16'), array(['polar_bear_sem_seg_gt'], dtype='<U21'), array(['polar_bear_sem_seg_gt'], dtype='<U21'), array(['nettles_sem_seg_gt'], dtype='<U18'), array(['turtle_sem_seg_gt'], dtype='<U17'), array(['penguin_sem_seg_gt'], dtype='<U18'), array(['star_fish_sem_seg_gt'], dtype='<U20'), array(['penguin_sem_seg_gt'], dtype='<U18'), array(['crocodile_sem_seg_gt'], dtype='<U20'), array(['penguin_sem_seg_gt'], dtype='<U18'), array(['whale_sem_seg_gt'], dtype='<U16'), array(['penguin_sem_seg_gt'], dtype='<U18'), array(['squid_sem_seg_gt'], dtype='<U16'), array(['otter_sem_seg_gt'], dtype='<U16'), array(['seahorse_sem_seg_gt'], dtype='<U19'), array(['nettles_sem_seg_gt'], dtype='<U18'), array(['shrimp_sem_seg_gt'], dtype='<U17'), array(['sea_anemone_sem_seg_gt'], dtype='<U22'), array(['whale_sem_seg_gt'], dtype='<U16'), array(['nettles_sem_seg_gt'], dtype='<U18'), array(['octopus_sem_seg_gt'], dtype='<U18'), array(['crocodile_sem_seg_gt'], dtype='<U20'), array(['shrimp_sem_seg_gt'], dtype='<U17'), array(['nudibranch_sem_seg_gt'], dtype='<U21'), array(['nettles_sem_seg_gt'], dtype='<U18'), array(['nudibranch_sem_seg_gt'], dtype='<U21'), array(['seal_sem_seg_gt'], dtype='<U15'), array(['penguin_sem_seg_gt'], dtype='<U18'), array(['nudibranch_sem_seg_gt'], dtype='<U21'), array(['squid_sem_seg_gt'], dtype='<U16'), array(['crab_sem_seg_gt'], dtype='<U15'), array(['crab_sem_seg_gt'], dtype='<U15'), array(['nudibranch_sem_seg_gt'], dtype='<U21'), array(['crab_sem_seg_gt'], dtype='<U15'), array(['sea_urchin_sem_seg_gt'], dtype='<U21'), array(['frog_sem_seg_gt'], dtype='<U15'), array(['crocodile_sem_seg_gt'], dtype='<U20'), array(['turtle_sem_seg_gt'], dtype='<U17'), array(['shrimp_sem_seg_gt'], dtype='<U17'), array(['crab_sem_seg_gt'], dtype='<U15'), array(['nudibranch_sem_seg_gt'], dtype='<U21'), array(['octopus_sem_seg_gt'], dtype='<U18'), array(['crab_sem_seg_gt'], dtype='<U15'), array(['turtle_sem_seg_gt'], dtype='<U17'), array(['nudibranch_sem_seg_gt'], dtype='<U21'), array(['polar_bear_sem_seg_gt'], dtype='<U21'), array(['turtle_sem_seg_gt'], dtype='<U17'), array(['sea_anemone_sem_seg_gt'], dtype='<U22'), array(['otter_sem_seg_gt'], dtype='<U16'), array(['star_fish_sem_seg_gt'], dtype='<U20'), array(['star_fish_sem_seg_gt'], dtype='<U20'), array(['polar_bear_sem_seg_gt'], dtype='<U21'), array(['sea_urchin_sem_seg_gt'], dtype='<U21'), array(['seahorse_sem_seg_gt'], dtype='<U19'), array(['polar_bear_sem_seg_gt'], dtype='<U21'), array(['nudibranch_sem_seg_gt'], dtype='<U21'), array(['penguin_sem_seg_gt'], dtype='<U18'), array(['stingray_sem_seg_gt'], dtype='<U19'), array(['nettles_sem_seg_gt'], dtype='<U18'), array(['crab_sem_seg_gt'], dtype='<U15'), array(['seahorse_sem_seg_gt'], dtype='<U19'), array(['nudibranch_sem_seg_gt'], dtype='<U21'), array(['turtle_sem_seg_gt'], dtype='<U17'), array(['otter_sem_seg_gt'], dtype='<U16'), array(['squid_sem_seg_gt'], dtype='<U16'), array(['frog_sem_seg_gt'], dtype='<U15'), array(['whale_sem_seg_gt'], dtype='<U16'), array(['shark_sem_seg_gt'], dtype='<U16'), array(['crab_sem_seg_gt'], dtype='<U15'), array(['whale_sem_seg_gt'], dtype='<U16'), array(['seal_sem_seg_gt'], dtype='<U15'), array(['whale_sem_seg_gt'], dtype='<U16'), array(['star_fish_sem_seg_gt'], dtype='<U20'), array(['seal_sem_seg_gt'], dtype='<U15'), array(['shark_sem_seg_gt'], dtype='<U16'), array(['seahorse_sem_seg_gt'], dtype='<U19'), array(['octopus_sem_seg_gt'], dtype='<U18'), array(['nudibranch_sem_seg_gt'], dtype='<U21'), array(['turtle_sem_seg_gt'], dtype='<U17'), array(['stingray_sem_seg_gt'], dtype='<U19'), array(['shrimp_sem_seg_gt'], dtype='<U17'), array(['polar_bear_sem_seg_gt'], dtype='<U21'), array(['nettles_sem_seg_gt'], dtype='<U18'), array(['crocodile_sem_seg_gt'], dtype='<U20'), array(['star_fish_sem_seg_gt'], dtype='<U20'), array(['penguin_sem_seg_gt'], dtype='<U18'), array(['star_fish_sem_seg_gt'], dtype='<U20'), array(['nudibranch_sem_seg_gt'], dtype='<U21'), array(['seahorse_sem_seg_gt'], dtype='<U19'), array(['turtle_sem_seg_gt'], dtype='<U17'), array(['seal_sem_seg_gt'], dtype='<U15'), array(['turtle_sem_seg_gt'], dtype='<U17'), array(['nettles_sem_seg_gt'], dtype='<U18'), array(['seal_sem_seg_gt'], dtype='<U15'), array(['turtle_sem_seg_gt'], dtype='<U17'), array(['polar_bear_sem_seg_gt'], dtype='<U21'), array(['turtle_sem_seg_gt'], dtype='<U17'), array(['whale_sem_seg_gt'], dtype='<U16'), array(['seal_sem_seg_gt'], dtype='<U15'), array(['shark_sem_seg_gt'], dtype='<U16'), array(['nettles_sem_seg_gt'], dtype='<U18'), array(['polar_bear_sem_seg_gt'], dtype='<U21'), array(['shark_sem_seg_gt'], dtype='<U16'), array(['frog_sem_seg_gt'], dtype='<U15'), array(['shark_sem_seg_gt'], dtype='<U16'), array(['frog_sem_seg_gt'], dtype='<U15'), array(['crab_sem_seg_gt'], dtype='<U15'), array(['squid_sem_seg_gt'], dtype='<U16'), array(['stingray_sem_seg_gt'], dtype='<U19'), array(['polar_bear_sem_seg_gt'], dtype='<U21'), array(['seal_sem_seg_gt'], dtype='<U15'), array(['turtle_sem_seg_gt'], dtype='<U17'), array(['star_fish_sem_seg_gt'], dtype='<U20'), array(['seahorse_sem_seg_gt'], dtype='<U19'), array(['penguin_sem_seg_gt'], dtype='<U18'), array(['crab_sem_seg_gt'], dtype='<U15'), array(['otter_sem_seg_gt'], dtype='<U16'), array(['crocodile_sem_seg_gt'], dtype='<U20'), array(['octopus_sem_seg_gt'], dtype='<U18'), array(['octopus_sem_seg_gt'], dtype='<U18'), array(['whale_sem_seg_gt'], dtype='<U16'), array(['octopus_sem_seg_gt'], dtype='<U18'), array(['seal_sem_seg_gt'], dtype='<U15'), array(['sea_anemone_sem_seg_gt'], dtype='<U22'), array(['squid_sem_seg_gt'], dtype='<U16'), array(['otter_sem_seg_gt'], dtype='<U16'), array(['otter_sem_seg_gt'], dtype='<U16'), array(['otter_sem_seg_gt'], dtype='<U16'), array(['seal_sem_seg_gt'], dtype='<U15'), array(['stingray_sem_seg_gt'], dtype='<U19'), array(['octopus_sem_seg_gt'], dtype='<U18'), array(['shrimp_sem_seg_gt'], dtype='<U17'), array(['squid_sem_seg_gt'], dtype='<U16'), array(['nettles_sem_seg_gt'], dtype='<U18'), array(['nettles_sem_seg_gt'], dtype='<U18'), array(['octopus_sem_seg_gt'], dtype='<U18'), array(['sea_anemone_sem_seg_gt'], dtype='<U22'), array(['squid_sem_seg_gt'], dtype='<U16'), array(['nettles_sem_seg_gt'], dtype='<U18'), array(['nudibranch_sem_seg_gt'], dtype='<U21'), array(['shrimp_sem_seg_gt'], dtype='<U17'), array(['octopus_sem_seg_gt'], dtype='<U18'), array(['nettles_sem_seg_gt'], dtype='<U18'), array(['sea_urchin_sem_seg_gt'], dtype='<U21'), array(['sea_urchin_sem_seg_gt'], dtype='<U21'), array(['octopus_sem_seg_gt'], dtype='<U18'), array(['seal_sem_seg_gt'], dtype='<U15'), array(['star_fish_sem_seg_gt'], dtype='<U20'), array(['crocodile_sem_seg_gt'], dtype='<U20'), array(['otter_sem_seg_gt'], dtype='<U16'), array(['octopus_sem_seg_gt'], dtype='<U18'), array(['whale_sem_seg_gt'], dtype='<U16'), array(['shrimp_sem_seg_gt'], dtype='<U17'), array(['penguin_sem_seg_gt'], dtype='<U18'), array(['shrimp_sem_seg_gt'], dtype='<U17'), array(['nettles_sem_seg_gt'], dtype='<U18'), array(['polar_bear_sem_seg_gt'], dtype='<U21')]\n",
      "[array(['star_fish_sem_seg_gt'], dtype='<U20'), array(['whale_sem_seg_gt'], dtype='<U16'), array(['nettles_sem_seg_gt'], dtype='<U18'), array(['nudibranch_sem_seg_gt'], dtype='<U21'), array(['penguin_sem_seg_gt'], dtype='<U18'), array(['crocodile_sem_seg_gt'], dtype='<U20'), array(['stingray_sem_seg_gt'], dtype='<U19'), array(['frog_sem_seg_gt'], dtype='<U15'), array(['squid_sem_seg_gt'], dtype='<U16'), array(['shark_sem_seg_gt'], dtype='<U16'), array(['crocodile_sem_seg_gt'], dtype='<U20'), array(['octopus_sem_seg_gt'], dtype='<U18'), array(['star_fish_sem_seg_gt'], dtype='<U20'), array(['turtle_sem_seg_gt'], dtype='<U17'), array(['nudibranch_sem_seg_gt'], dtype='<U21'), array(['stingray_sem_seg_gt'], dtype='<U19'), array(['polar_bear_sem_seg_gt'], dtype='<U21'), array(['penguin_sem_seg_gt'], dtype='<U18'), array(['polar_bear_sem_seg_gt'], dtype='<U21'), array(['octopus_sem_seg_gt'], dtype='<U18'), array(['crab_sem_seg_gt'], dtype='<U15'), array(['sea_anemone_sem_seg_gt'], dtype='<U22'), array(['sea_anemone_sem_seg_gt'], dtype='<U22'), array(['whale_sem_seg_gt'], dtype='<U16'), array(['octopus_sem_seg_gt'], dtype='<U18'), array(['shrimp_sem_seg_gt'], dtype='<U17'), array(['seal_sem_seg_gt'], dtype='<U15'), array(['nettles_sem_seg_gt'], dtype='<U18'), array(['crab_sem_seg_gt'], dtype='<U15'), array(['otter_sem_seg_gt'], dtype='<U16'), array(['seahorse_sem_seg_gt'], dtype='<U19'), array(['penguin_sem_seg_gt'], dtype='<U18'), array(['shark_sem_seg_gt'], dtype='<U16'), array(['nudibranch_sem_seg_gt'], dtype='<U21'), array(['star_fish_sem_seg_gt'], dtype='<U20'), array(['stingray_sem_seg_gt'], dtype='<U19'), array(['squid_sem_seg_gt'], dtype='<U16'), array(['shrimp_sem_seg_gt'], dtype='<U17'), array(['sea_urchin_sem_seg_gt'], dtype='<U21'), array(['whale_sem_seg_gt'], dtype='<U16'), array(['otter_sem_seg_gt'], dtype='<U16'), array(['squid_sem_seg_gt'], dtype='<U16'), array(['otter_sem_seg_gt'], dtype='<U16'), array(['seahorse_sem_seg_gt'], dtype='<U19'), array(['polar_bear_sem_seg_gt'], dtype='<U21'), array(['crab_sem_seg_gt'], dtype='<U15'), array(['seal_sem_seg_gt'], dtype='<U15'), array(['turtle_sem_seg_gt'], dtype='<U17'), array(['turtle_sem_seg_gt'], dtype='<U17'), array(['shrimp_sem_seg_gt'], dtype='<U17'), array(['sea_urchin_sem_seg_gt'], dtype='<U21'), array(['nettles_sem_seg_gt'], dtype='<U18'), array(['shark_sem_seg_gt'], dtype='<U16'), array(['seal_sem_seg_gt'], dtype='<U15'), array(['crocodile_sem_seg_gt'], dtype='<U20')]\n"
     ]
    }
   ],
   "source": [
    "\n",
    "split = StratifiedShuffleSplit(n_splits = 1, test_size = 0.1)\n",
    "\n",
    "for train_index, test_index in split.split(images,imclasses):\n",
    "    print(train_index,test_index)\n",
    "    images_train = [images[i] for i in train_index]\n",
    "    classes_train = [imclasses[i] for i in train_index]\n",
    "    masks_train = [masks[i] for i in train_index]\n",
    "\n",
    "    images_test = [images[i] for i in test_index]\n",
    "    classes_test = [imclasses[i] for i in test_index]\n",
    "    masks_test = [masks[i] for i in test_index]\n",
    "\n",
    "print(len(images_train),len(images_test))\n",
    "\n",
    "print(classes_train)\n",
    "print(classes_test)"
   ]
  },
  {
   "cell_type": "code",
   "execution_count": 41,
   "metadata": {},
   "outputs": [],
   "source": [
    "class myDataset(Dataset):\n",
    "    def __init__(self,input_data,mask,transform):\n",
    "        self.input=input_data\n",
    "        self.mask = mask\n",
    "        self.transforms = transform\n",
    "\n",
    "    def __len__(self):\n",
    "        return len(self.input)\n",
    "\n",
    "    def __getitem__(self, index):\n",
    "        x=self.input[index]\n",
    "        z=self.mask[index]\n",
    "#         print(x,z)\n",
    "        if self.transforms is not None:\n",
    "            # apply the transformations to both image and its mask\n",
    "            x = self.transforms(x)\n",
    "            z = self.transforms(z)\n",
    "        return x,z\n",
    "\n",
    "class hyperparam:\n",
    "    num_classes=31\n",
    "    num_workers=5\n",
    "    bs=25\n",
    "    epochs = 20\n",
    "    HEIGHT= 256\n",
    "    WIDTH = 256\n",
    "# params = {shuffle=True,\"batch_size\" : hyperparam.bs, \"num_workers\":num_workers=os.cpu_count() ,\"pin_memory\" : False}\n"
   ]
  },
  {
   "cell_type": "code",
   "execution_count": 42,
   "metadata": {},
   "outputs": [],
   "source": [
    "from torchvision import transforms\n",
    "\n",
    "transforms = transforms.Compose([transforms.ToPILImage(),transforms.Resize((hyperparam.HEIGHT,hyperparam.WIDTH)),transforms.ToTensor()])\n",
    "#transforms.Resize((hyperparam.HEIGHT,hyperparam.WIDTH)),transforms.CenterCrop(256),\n",
    "training_set = myDataset(images_train,masks_train,transforms)\n",
    "test_set = myDataset(images_test,masks_test,transforms)\n",
    "\n",
    "train_gen = DataLoader(training_set,shuffle=True,batch_size=hyperparam.bs, pin_memory=False,num_workers=os.cpu_count())\n",
    "test_gen = DataLoader(test_set,shuffle=False,batch_size=2, pin_memory=False,num_workers=os.cpu_count())"
   ]
  },
  {
   "cell_type": "code",
   "execution_count": 43,
   "metadata": {},
   "outputs": [],
   "source": [
    "# deeplabv3_resnet50\n",
    "# fcn_resnet50\n",
    "class MyFCN(nn.Module):\n",
    "    def __init__(self, num_classes, \n",
    "                 pretrained=True, \n",
    "                 criterion=nn.CrossEntropyLoss(ignore_index=255),\n",
    "                 network_name='resnet50',\n",
    "                 training=False):                    \n",
    "        super(MyFCN, self).__init__()\n",
    "        \n",
    "        self.num_classes   = num_classes\n",
    "        self.criterion     = criterion\n",
    "        self.backbone_name = network_name\n",
    "        self.training      = training        \n",
    "        \n",
    "        if pretrained:\n",
    "            net = deeplabv3_resnet50(pretrained=pretrained,                             \n",
    "                            pretrained_backbone= True)\n",
    "                \n",
    "        #self.classifier = nn.Sequential(*[net.classifier[i] for i in range(5)])\n",
    "        \n",
    "        self.backbone   = net.backbone\n",
    "#         self.classifier = nn.Sequential(*list(net.classifier.children())[:-1]) \n",
    "        self.classifier = DeepLabHead(2048,512)\n",
    "#         self.last_layer = nn.Conv2d(512, num_classes, kernel_size=(1, 1), stride=(1, 1))\n",
    "#         self.upsample1 = nn.ConvTranspose2d(num_classes, num_classes, (4,4), stride=4)\n",
    "#         self.upsample2 = nn.ConvTranspose2d(num_classes, num_classes, (2,2), stride=2)\n",
    "        self.relu    = nn.ReLU(inplace=True)\n",
    "        self.deconv1 = nn.ConvTranspose2d(512, 512, kernel_size=3, stride=2, padding=1, dilation=1, output_padding=1)\n",
    "        self.bn1     = nn.BatchNorm2d(512)\n",
    "        self.deconv2 = nn.ConvTranspose2d(512, 256, kernel_size=3, stride=2, padding=1, dilation=1, output_padding=1)\n",
    "        self.bn2     = nn.BatchNorm2d(256)\n",
    "        self.deconv3 = nn.ConvTranspose2d(256, 128, kernel_size=3, stride=2, padding=1, dilation=1, output_padding=1)\n",
    "        self.bn3     = nn.BatchNorm2d(128)\n",
    "        \n",
    "        self.deconv4 = nn.ConvTranspose2d(128, 64, kernel_size=3, stride=2, padding=1, dilation=1, output_padding=1)\n",
    "        self.bn4     = nn.BatchNorm2d(64)\n",
    "        self.deconv5 = nn.ConvTranspose2d(64, 32, kernel_size=1, stride=1, padding=0, dilation=1, output_padding=0)\n",
    "        self.bn5     = nn.BatchNorm2d(32)\n",
    "        self.final = nn.Conv2d(32, num_classes, kernel_size=1)\n",
    "        \n",
    "        '''if self.training:\n",
    "            self.aux_classifier = nn.Sequential(*list(net.aux_classifier.children())[:-1])        \n",
    "            self.aux_last_layer = nn.Conv2d(512, num_classes, kernel_size=(1, 1), stride=(1, 1))\n",
    "            '''\n",
    "\n",
    "        \n",
    "    def forward(self, x):\n",
    "        \n",
    "        x = self.backbone(x)\n",
    "        x = x['out'] # the other key in the ordered dictionary is 'aux'\n",
    "        #pdb.set_trace()\n",
    "#         print(\"deeplabv3 size\",x.size())\n",
    "        x = self.classifier(x)\n",
    "#         x = self.last_layer(x) \n",
    "#         x = self.upsample1(x)\n",
    "#         x = self.upsample2(x)\n",
    "#         print(\"deeplabv3 size\",x.size())\n",
    "        score = self.bn1(x)                      # element-wise add, size=(N, 512, x.H/16, x.W/16)\n",
    "        score = self.relu(self.deconv2(score))            # size=(2, 256, x.H/4, x.W/4)\n",
    "        score = self.bn2(score) \n",
    "        score = self.bn3(self.relu(self.deconv3(score)))  # size=(N, 128, x.H/2, x.W/2)\n",
    "        score = self.bn4(self.relu(self.deconv4(score)))  # size=(N, 64, x.H/2, x.W/2)\n",
    "        score = self.bn5(self.relu(self.deconv5(score)))  # size=(N, 32, x.H, x.W)\n",
    "        score = self.final(score)                    # size=(N, n_class, x.H/1, x.W/1)\n",
    "#         if self.training:\n",
    "# #             pdb.set_trace()\n",
    "# #             main_loss = self.criterion(x, y)\n",
    "#             return x.max(1)[1], main_loss\n",
    "\n",
    "#             #aux       = self.aux_classifier(x_tmp)        \n",
    "#             #aux_loss  = self.criterion(aux, y)\n",
    "#             #return x.max(1)[1], main_loss, aux_loss\n",
    "            \n",
    "#         else:\n",
    "        return score            \n"
   ]
  },
  {
   "cell_type": "code",
   "execution_count": 44,
   "metadata": {},
   "outputs": [],
   "source": [
    "# model = fcn_resnet50(pretrained=False, progress=False,num_classes=31,pretrained_backbone= True)\n",
    "# model = model.train(True)\n",
    "# model\n",
    "\n",
    "model = MyFCN(num_classes = 31)\n"
   ]
  },
  {
   "cell_type": "code",
   "execution_count": 45,
   "metadata": {},
   "outputs": [],
   "source": [
    "lossfunc = nn.CrossEntropyLoss()\n",
    "# lossfunc = nn.BCEWithLogitsLoss()\n",
    "optimizer = optim.SGD(model.parameters(),lr = 0.001)\n",
    "scheduler = optim.lr_scheduler.ReduceLROnPlateau(optimizer,factor = 0.1, patience = 5)\n"
   ]
  },
  {
   "cell_type": "code",
   "execution_count": 46,
   "metadata": {},
   "outputs": [],
   "source": [
    "classes = [\"crab\",\"crocodile\",\"dolphin\",\"frog\",\"nettles\",\"octopus\",\"otter\",\"penguin\",\"polar_bear\",\"sea_anemone\",\"sea_urchin\",\"seahorse\",\"seal\",\"shark\",\"shrimp\",\"star_fish\",\"stingray\",\"squid\",\"turtle\",\"whale\",\"nudibranch\",\"coral\",\"rock\",\"water\",\"sand\",\"plant\",\"human\",\"iceberg\",\"reef\",\"fish\",\"other\"]\n",
    "\n",
    "sem_class_to_idx = {cls: idx for (idx,cls) in enumerate(classes)}\n",
    "# sem_class_to_idx"
   ]
  },
  {
   "cell_type": "code",
   "execution_count": 51,
   "metadata": {},
   "outputs": [
    {
     "name": "stdout",
     "output_type": "stream",
     "text": [
      "20\n",
      "tensor(3.1753, grad_fn=<NllLoss2DBackward0>)\n",
      "20\n",
      "tensor(3.1479, grad_fn=<NllLoss2DBackward0>)\n",
      "20\n",
      "tensor(3.1208, grad_fn=<NllLoss2DBackward0>)\n",
      "20\n",
      "tensor(3.0938, grad_fn=<NllLoss2DBackward0>)\n",
      "20\n",
      "tensor(3.0659, grad_fn=<NllLoss2DBackward0>)\n",
      "20\n",
      "tensor(3.0386, grad_fn=<NllLoss2DBackward0>)\n",
      "20\n",
      "tensor(3.0102, grad_fn=<NllLoss2DBackward0>)\n",
      "20\n",
      "tensor(2.9827, grad_fn=<NllLoss2DBackward0>)\n",
      "20\n",
      "tensor(2.9551, grad_fn=<NllLoss2DBackward0>)\n",
      "20\n",
      "tensor(2.9269, grad_fn=<NllLoss2DBackward0>)\n",
      "20\n",
      "tensor(2.8978, grad_fn=<NllLoss2DBackward0>)\n",
      "20\n",
      "tensor(2.8687, grad_fn=<NllLoss2DBackward0>)\n",
      "20\n",
      "tensor(2.8406, grad_fn=<NllLoss2DBackward0>)\n",
      "20\n",
      "tensor(2.8121, grad_fn=<NllLoss2DBackward0>)\n",
      "20\n",
      "tensor(2.7827, grad_fn=<NllLoss2DBackward0>)\n",
      "20\n",
      "tensor(2.7535, grad_fn=<NllLoss2DBackward0>)\n",
      "20\n",
      "tensor(2.7239, grad_fn=<NllLoss2DBackward0>)\n",
      "20\n",
      "tensor(2.6946, grad_fn=<NllLoss2DBackward0>)\n",
      "20\n",
      "tensor(2.6640, grad_fn=<NllLoss2DBackward0>)\n",
      "20\n",
      "tensor(2.6337, grad_fn=<NllLoss2DBackward0>)\n"
     ]
    }
   ],
   "source": [
    "training_total_loss=[]\n",
    "training_loss=[]\n",
    "testing_total_loss=[]\n",
    "testing_loss=[]\n",
    "testing_avg_loss=[]\n",
    "training_avg_loss=[]\n",
    "import torchvision.transforms.functional as F\n",
    "for epochs in range(hyperparam.epochs):\n",
    "    training_total_loss_curr_epoc=0\n",
    "    testing_total_loss_curr_epoc=0\n",
    "#     training_loss=[]\n",
    "    model.train(True)\n",
    "#     print(\"here\")\n",
    "    with torch.set_grad_enabled(True):\n",
    "#         print(\"here1\")\n",
    "        print(len(train_gen))\n",
    "        for batch,labels in train_gen:\n",
    "            \n",
    "#             print(\"here2\")\n",
    "            batch=batch.float()\n",
    "            labels=labels.float()\n",
    "#             print(\"batch size\", batch.size())\n",
    "#             batch,label=Variable(batch,requires_grad=True),Variable(labels,requires_grad=True)\n",
    "#             print(batch,label)\n",
    "            batch = F.normalize(batch,mean=[0.485,0.456,0.406],std=[0.229,0.224,0.225])\n",
    "            labels = torch.nn.functional.softmax(labels,dim =1)\n",
    "            predictions=model(batch)\n",
    "#             print(\"predictions\" ,predictions)\n",
    "#             print(\"predictions size\",predictions.size())\n",
    "#             print(\"norm_pred\",norm_pred.size())\n",
    "#             np = torch.argmax(predictions.squeeze(),dim=1)\n",
    "            predictions = predictions.type(torch.FloatTensor)\n",
    "#             npred = torch.nn.functional.softmax(predictions,dim =1)\n",
    "#             print(\"np \", np.size())\n",
    "            labels = labels.squeeze(1)\n",
    "            labels = labels.type(torch.LongTensor)\n",
    "#             print(\"label size\", labels.size())\n",
    "            pred_loss = lossfunc(predictions,labels) \n",
    "#             pred_loss.requires_grad = True\n",
    "#             print(pred_loss.requires_grad)\n",
    "            optimizer.zero_grad()\n",
    "            pred_loss.backward()\n",
    "            optimizer.step()\n",
    "#             training_loss.append(pred_loss)\n",
    "#         print(\"training_loss\",training_loss)\n",
    "#         print(\"training_total_loss\",training_loss)\n",
    "        training_total_loss.append(pred_loss)\n",
    "        training_total_loss_curr_epoc+=pred_loss\n",
    "        print(pred_loss)\n",
    "        scheduler.step(pred_loss)\n",
    "    model.eval()\n",
    "#     print(\"here test\")\n",
    "    with torch.set_grad_enabled(False):\n",
    "#         print(\"here1 test\")\n",
    "        for batch,labels in test_gen:\n",
    "    #             print(\"here2\")\n",
    "            batch=batch.float()\n",
    "            labels=labels.float()\n",
    "    #         labels = ((labels - labels.min()) * (1/(labels.max() - labels.min())*30))\n",
    "#             print(\"batch size\", batch.size())\n",
    "    #             batch,label=Variable(batch,requires_grad=True),Variable(labels,requires_grad=True)\n",
    "    #             print(batch,label)\n",
    "            batch = F.normalize(batch,mean=[0.485,0.456,0.406],std=[0.229,0.224,0.225])\n",
    "            predictions=model(batch)\n",
    "    #             print(\"predictions\" ,predictions)\n",
    "    #             print(\"predictions size\",predictions.size())\n",
    "    #             print(\"norm_pred\",norm_pred.size())\n",
    "    #         npred = torch.argmax(predictions.squeeze(),dim=1)\n",
    "            predictions = predictions.type(torch.FloatTensor)\n",
    "            npred = torch.nn.functional.softmax(predictions,dim =1)\n",
    "#             print(\"np \", npred.size())\n",
    "            labels = labels.squeeze(1)\n",
    "            labels = labels.type(torch.LongTensor)\n",
    "    #             print(\"label size\", labels.size())\n",
    "            pred_loss = lossfunc(npred,labels) \n",
    "            testing_loss.append(pred_loss)\n",
    "            testing_total_loss_curr_epoc+=pred_loss\n",
    "    \n",
    "    #             print(\"pred_loss\",pred_loss)\n",
    "    #         print(\"batch[0]\",batch[0])\n",
    "            masks = [\n",
    "                npred[img_idx,sem_class_to_idx[cls]]\n",
    "                for img_idx in range(batch.shape[0])\n",
    "                for cls in classes]\n",
    "#             break\n",
    "    avgTrainLoss = training_total_loss_curr_epoc / len(train_gen)\n",
    "    avgTestLoss = testing_total_loss_curr_epoc / len(test_gen)\n",
    "    testing_avg_loss.append(avgTestLoss)\n",
    "    training_avg_loss.append(avgTrainLoss)\n"
   ]
  },
  {
   "cell_type": "code",
   "execution_count": 52,
   "metadata": {},
   "outputs": [
    {
     "data": {
      "text/plain": [
       "[<matplotlib.lines.Line2D at 0x7f704e4d2f40>]"
      ]
     },
     "execution_count": 52,
     "metadata": {},
     "output_type": "execute_result"
    },
    {
     "data": {
      "image/png": "[encoded data removed]",
      "text/plain": [
       "<Figure size 432x288 with 1 Axes>"
      ]
     },
     "metadata": {
      "needs_background": "light"
     },
     "output_type": "display_data"
    }
   ],
   "source": [
    "x=range(len(training_avg_loss))\n",
    "plt.plot(x,training_avg_loss)"
   ]
  },
  {
   "cell_type": "code",
   "execution_count": 53,
   "metadata": {},
   "outputs": [
    {
     "data": {
      "text/plain": [
       "20"
      ]
     },
     "execution_count": 53,
     "metadata": {},
     "output_type": "execute_result"
    }
   ],
   "source": [
    "len(training_avg_loss)"
   ]
  },
  {
   "cell_type": "code",
   "execution_count": 54,
   "metadata": {},
   "outputs": [
    {
     "data": {
      "text/plain": [
       "[<matplotlib.lines.Line2D at 0x7f704d608e80>]"
      ]
     },
     "execution_count": 54,
     "metadata": {},
     "output_type": "execute_result"
    },
    {
     "data": {
      "image/png": "[encoded data removed]",
      "text/plain": [
       "<Figure size 432x288 with 1 Axes>"
      ]
     },
     "metadata": {
      "needs_background": "light"
     },
     "output_type": "display_data"
    }
   ],
   "source": [
    "x=range(len(testing_avg_loss))\n",
    "plt.plot(x,testing_avg_loss)"
   ]
  },
  {
   "cell_type": "code",
   "execution_count": 39,
   "metadata": {
    "scrolled": true
   },
   "outputs": [
    {
     "name": "stdout",
     "output_type": "stream",
     "text": [
      "here\n",
      "here1 28\n",
      "batch size torch.Size([2, 3, 256, 256])\n",
      "np  torch.Size([2, 31, 256, 256])\n",
      "label size torch.Size([2, 256, 256])\n",
      "tensor([[[0, 0, 0,  ..., 0, 0, 0],\n",
      "         [0, 0, 0,  ..., 0, 0, 0],\n",
      "         [0, 0, 0,  ..., 0, 0, 0],\n",
      "         ...,\n",
      "         [0, 0, 0,  ..., 0, 0, 0],\n",
      "         [0, 0, 0,  ..., 0, 0, 0],\n",
      "         [0, 0, 0,  ..., 0, 0, 0]],\n",
      "\n",
      "        [[0, 0, 0,  ..., 0, 0, 0],\n",
      "         [0, 0, 0,  ..., 0, 0, 0],\n",
      "         [0, 0, 0,  ..., 0, 0, 0],\n",
      "         ...,\n",
      "         [0, 0, 0,  ..., 0, 0, 0],\n",
      "         [0, 0, 0,  ..., 0, 0, 0],\n",
      "         [0, 0, 0,  ..., 0, 0, 0]]])\n",
      "tensor([[[0, 0, 0,  ..., 0, 0, 0],\n",
      "         [0, 0, 0,  ..., 0, 0, 0],\n",
      "         [0, 0, 0,  ..., 0, 0, 0],\n",
      "         ...,\n",
      "         [0, 0, 0,  ..., 0, 0, 0],\n",
      "         [0, 0, 0,  ..., 0, 0, 0],\n",
      "         [0, 0, 0,  ..., 0, 0, 0]],\n",
      "\n",
      "        [[0, 0, 0,  ..., 0, 0, 0],\n",
      "         [0, 0, 0,  ..., 0, 0, 0],\n",
      "         [0, 0, 0,  ..., 0, 0, 0],\n",
      "         ...,\n",
      "         [0, 0, 0,  ..., 0, 0, 0],\n",
      "         [0, 0, 0,  ..., 0, 0, 0],\n",
      "         [0, 0, 0,  ..., 0, 0, 0]]])\n",
      "tensor([[[0., 0., 0.,  ..., 0., 0., 0.],\n",
      "         [0., 0., 0.,  ..., 0., 0., 0.],\n",
      "         [0., 0., 0.,  ..., 0., 0., 0.],\n",
      "         ...,\n",
      "         [0., 0., 0.,  ..., 0., 0., 0.],\n",
      "         [0., 0., 0.,  ..., 0., 0., 0.],\n",
      "         [0., 0., 0.,  ..., 0., 0., 0.]],\n",
      "\n",
      "        [[0., 0., 0.,  ..., 0., 0., 0.],\n",
      "         [0., 0., 0.,  ..., 0., 0., 0.],\n",
      "         [0., 0., 0.,  ..., 0., 0., 0.],\n",
      "         ...,\n",
      "         [0., 0., 0.,  ..., 0., 0., 0.],\n",
      "         [0., 0., 0.,  ..., 0., 0., 0.],\n",
      "         [0., 0., 0.,  ..., 0., 0., 0.]]])\n"
     ]
    },
    {
     "ename": "TypeError",
     "evalue": "Invalid shape (256, 256, 2) for image data",
     "output_type": "error",
     "traceback": [
      "\u001b[0;31m---------------------------------------------------------------------------\u001b[0m",
      "\u001b[0;31mTypeError\u001b[0m                                 Traceback (most recent call last)",
      "\u001b[0;32m<ipython-input-39-e0ec28aaab4e>\u001b[0m in \u001b[0;36m<module>\u001b[0;34m\u001b[0m\n\u001b[1;32m     24\u001b[0m         \u001b[0mprint\u001b[0m\u001b[0;34m(\u001b[0m\u001b[0;34m\"label size\"\u001b[0m\u001b[0;34m,\u001b[0m \u001b[0mlabels\u001b[0m\u001b[0;34m.\u001b[0m\u001b[0msize\u001b[0m\u001b[0;34m(\u001b[0m\u001b[0;34m)\u001b[0m\u001b[0;34m)\u001b[0m\u001b[0;34m\u001b[0m\u001b[0;34m\u001b[0m\u001b[0m\n\u001b[1;32m     25\u001b[0m         \u001b[0mprint\u001b[0m\u001b[0;34m(\u001b[0m\u001b[0mlabels\u001b[0m\u001b[0;34m)\u001b[0m\u001b[0;34m\u001b[0m\u001b[0;34m\u001b[0m\u001b[0m\n\u001b[0;32m---> 26\u001b[0;31m         \u001b[0mshow\u001b[0m\u001b[0;34m(\u001b[0m\u001b[0mlabels\u001b[0m\u001b[0;34m)\u001b[0m\u001b[0;34m\u001b[0m\u001b[0;34m\u001b[0m\u001b[0m\n\u001b[0m\u001b[1;32m     27\u001b[0m         \u001b[0mpred_loss\u001b[0m \u001b[0;34m=\u001b[0m \u001b[0mlossfunc\u001b[0m\u001b[0;34m(\u001b[0m\u001b[0mnpred\u001b[0m\u001b[0;34m,\u001b[0m\u001b[0mlabels\u001b[0m\u001b[0;34m)\u001b[0m\u001b[0;34m\u001b[0m\u001b[0;34m\u001b[0m\u001b[0m\n\u001b[1;32m     28\u001b[0m         \u001b[0mtesting_loss\u001b[0m\u001b[0;34m.\u001b[0m\u001b[0mappend\u001b[0m\u001b[0;34m(\u001b[0m\u001b[0mpred_loss\u001b[0m\u001b[0;34m)\u001b[0m\u001b[0;34m\u001b[0m\u001b[0;34m\u001b[0m\u001b[0m\n",
      "\u001b[0;32m<ipython-input-37-54b9aea08a2b>\u001b[0m in \u001b[0;36mshow\u001b[0;34m(imgs)\u001b[0m\n\u001b[1;32m     10\u001b[0m         \u001b[0mprint\u001b[0m\u001b[0;34m(\u001b[0m\u001b[0mimg2\u001b[0m\u001b[0;34m)\u001b[0m\u001b[0;34m\u001b[0m\u001b[0;34m\u001b[0m\u001b[0m\n\u001b[1;32m     11\u001b[0m         \u001b[0mimg\u001b[0m \u001b[0;34m=\u001b[0m \u001b[0mF\u001b[0m\u001b[0;34m.\u001b[0m\u001b[0mto_pil_image\u001b[0m\u001b[0;34m(\u001b[0m\u001b[0mimg2\u001b[0m\u001b[0;34m)\u001b[0m\u001b[0;34m\u001b[0m\u001b[0;34m\u001b[0m\u001b[0m\n\u001b[0;32m---> 12\u001b[0;31m         \u001b[0maxs\u001b[0m\u001b[0;34m[\u001b[0m\u001b[0;36m0\u001b[0m\u001b[0;34m,\u001b[0m \u001b[0mi\u001b[0m\u001b[0;34m]\u001b[0m\u001b[0;34m.\u001b[0m\u001b[0mimshow\u001b[0m\u001b[0;34m(\u001b[0m\u001b[0mnp\u001b[0m\u001b[0;34m.\u001b[0m\u001b[0masarray\u001b[0m\u001b[0;34m(\u001b[0m\u001b[0mimg\u001b[0m\u001b[0;34m)\u001b[0m\u001b[0;34m)\u001b[0m\u001b[0;34m\u001b[0m\u001b[0;34m\u001b[0m\u001b[0m\n\u001b[0m\u001b[1;32m     13\u001b[0m         \u001b[0maxs\u001b[0m\u001b[0;34m[\u001b[0m\u001b[0;36m0\u001b[0m\u001b[0;34m,\u001b[0m \u001b[0mi\u001b[0m\u001b[0;34m]\u001b[0m\u001b[0;34m.\u001b[0m\u001b[0mset\u001b[0m\u001b[0;34m(\u001b[0m\u001b[0mxticklabels\u001b[0m\u001b[0;34m=\u001b[0m\u001b[0;34m[\u001b[0m\u001b[0;34m]\u001b[0m\u001b[0;34m,\u001b[0m \u001b[0myticklabels\u001b[0m\u001b[0;34m=\u001b[0m\u001b[0;34m[\u001b[0m\u001b[0;34m]\u001b[0m\u001b[0;34m,\u001b[0m \u001b[0mxticks\u001b[0m\u001b[0;34m=\u001b[0m\u001b[0;34m[\u001b[0m\u001b[0;34m]\u001b[0m\u001b[0;34m,\u001b[0m \u001b[0myticks\u001b[0m\u001b[0;34m=\u001b[0m\u001b[0;34m[\u001b[0m\u001b[0;34m]\u001b[0m\u001b[0;34m)\u001b[0m\u001b[0;34m\u001b[0m\u001b[0;34m\u001b[0m\u001b[0m\n\u001b[1;32m     14\u001b[0m \u001b[0mi\u001b[0m \u001b[0;34m=\u001b[0m \u001b[0;36m0\u001b[0m\u001b[0;34m\u001b[0m\u001b[0;34m\u001b[0m\u001b[0m\n",
      "\u001b[0;32m~/.conda/envs/cv1/lib/python3.8/site-packages/matplotlib/__init__.py\u001b[0m in \u001b[0;36minner\u001b[0;34m(ax, data, *args, **kwargs)\u001b[0m\n\u001b[1;32m   1563\u001b[0m     \u001b[0;32mdef\u001b[0m \u001b[0minner\u001b[0m\u001b[0;34m(\u001b[0m\u001b[0max\u001b[0m\u001b[0;34m,\u001b[0m \u001b[0;34m*\u001b[0m\u001b[0margs\u001b[0m\u001b[0;34m,\u001b[0m \u001b[0mdata\u001b[0m\u001b[0;34m=\u001b[0m\u001b[0;32mNone\u001b[0m\u001b[0;34m,\u001b[0m \u001b[0;34m**\u001b[0m\u001b[0mkwargs\u001b[0m\u001b[0;34m)\u001b[0m\u001b[0;34m:\u001b[0m\u001b[0;34m\u001b[0m\u001b[0;34m\u001b[0m\u001b[0m\n\u001b[1;32m   1564\u001b[0m         \u001b[0;32mif\u001b[0m \u001b[0mdata\u001b[0m \u001b[0;32mis\u001b[0m \u001b[0;32mNone\u001b[0m\u001b[0;34m:\u001b[0m\u001b[0;34m\u001b[0m\u001b[0;34m\u001b[0m\u001b[0m\n\u001b[0;32m-> 1565\u001b[0;31m             \u001b[0;32mreturn\u001b[0m \u001b[0mfunc\u001b[0m\u001b[0;34m(\u001b[0m\u001b[0max\u001b[0m\u001b[0;34m,\u001b[0m \u001b[0;34m*\u001b[0m\u001b[0mmap\u001b[0m\u001b[0;34m(\u001b[0m\u001b[0msanitize_sequence\u001b[0m\u001b[0;34m,\u001b[0m \u001b[0margs\u001b[0m\u001b[0;34m)\u001b[0m\u001b[0;34m,\u001b[0m \u001b[0;34m**\u001b[0m\u001b[0mkwargs\u001b[0m\u001b[0;34m)\u001b[0m\u001b[0;34m\u001b[0m\u001b[0;34m\u001b[0m\u001b[0m\n\u001b[0m\u001b[1;32m   1566\u001b[0m \u001b[0;34m\u001b[0m\u001b[0m\n\u001b[1;32m   1567\u001b[0m         \u001b[0mbound\u001b[0m \u001b[0;34m=\u001b[0m \u001b[0mnew_sig\u001b[0m\u001b[0;34m.\u001b[0m\u001b[0mbind\u001b[0m\u001b[0;34m(\u001b[0m\u001b[0max\u001b[0m\u001b[0;34m,\u001b[0m \u001b[0;34m*\u001b[0m\u001b[0margs\u001b[0m\u001b[0;34m,\u001b[0m \u001b[0;34m**\u001b[0m\u001b[0mkwargs\u001b[0m\u001b[0;34m)\u001b[0m\u001b[0;34m\u001b[0m\u001b[0;34m\u001b[0m\u001b[0m\n",
      "\u001b[0;32m~/.conda/envs/cv1/lib/python3.8/site-packages/matplotlib/cbook/deprecation.py\u001b[0m in \u001b[0;36mwrapper\u001b[0;34m(*args, **kwargs)\u001b[0m\n\u001b[1;32m    356\u001b[0m                 \u001b[0;34mf\"%(removal)s.  If any parameter follows {name!r}, they \"\u001b[0m\u001b[0;34m\u001b[0m\u001b[0;34m\u001b[0m\u001b[0m\n\u001b[1;32m    357\u001b[0m                 f\"should be pass as keyword, not positionally.\")\n\u001b[0;32m--> 358\u001b[0;31m         \u001b[0;32mreturn\u001b[0m \u001b[0mfunc\u001b[0m\u001b[0;34m(\u001b[0m\u001b[0;34m*\u001b[0m\u001b[0margs\u001b[0m\u001b[0;34m,\u001b[0m \u001b[0;34m**\u001b[0m\u001b[0mkwargs\u001b[0m\u001b[0;34m)\u001b[0m\u001b[0;34m\u001b[0m\u001b[0;34m\u001b[0m\u001b[0m\n\u001b[0m\u001b[1;32m    359\u001b[0m \u001b[0;34m\u001b[0m\u001b[0m\n\u001b[1;32m    360\u001b[0m     \u001b[0;32mreturn\u001b[0m \u001b[0mwrapper\u001b[0m\u001b[0;34m\u001b[0m\u001b[0;34m\u001b[0m\u001b[0m\n",
      "\u001b[0;32m~/.conda/envs/cv1/lib/python3.8/site-packages/matplotlib/cbook/deprecation.py\u001b[0m in \u001b[0;36mwrapper\u001b[0;34m(*args, **kwargs)\u001b[0m\n\u001b[1;32m    356\u001b[0m                 \u001b[0;34mf\"%(removal)s.  If any parameter follows {name!r}, they \"\u001b[0m\u001b[0;34m\u001b[0m\u001b[0;34m\u001b[0m\u001b[0m\n\u001b[1;32m    357\u001b[0m                 f\"should be pass as keyword, not positionally.\")\n\u001b[0;32m--> 358\u001b[0;31m         \u001b[0;32mreturn\u001b[0m \u001b[0mfunc\u001b[0m\u001b[0;34m(\u001b[0m\u001b[0;34m*\u001b[0m\u001b[0margs\u001b[0m\u001b[0;34m,\u001b[0m \u001b[0;34m**\u001b[0m\u001b[0mkwargs\u001b[0m\u001b[0;34m)\u001b[0m\u001b[0;34m\u001b[0m\u001b[0;34m\u001b[0m\u001b[0m\n\u001b[0m\u001b[1;32m    359\u001b[0m \u001b[0;34m\u001b[0m\u001b[0m\n\u001b[1;32m    360\u001b[0m     \u001b[0;32mreturn\u001b[0m \u001b[0mwrapper\u001b[0m\u001b[0;34m\u001b[0m\u001b[0;34m\u001b[0m\u001b[0m\n",
      "\u001b[0;32m~/.conda/envs/cv1/lib/python3.8/site-packages/matplotlib/axes/_axes.py\u001b[0m in \u001b[0;36mimshow\u001b[0;34m(self, X, cmap, norm, aspect, interpolation, alpha, vmin, vmax, origin, extent, shape, filternorm, filterrad, imlim, resample, url, **kwargs)\u001b[0m\n\u001b[1;32m   5624\u001b[0m                               resample=resample, **kwargs)\n\u001b[1;32m   5625\u001b[0m \u001b[0;34m\u001b[0m\u001b[0m\n\u001b[0;32m-> 5626\u001b[0;31m         \u001b[0mim\u001b[0m\u001b[0;34m.\u001b[0m\u001b[0mset_data\u001b[0m\u001b[0;34m(\u001b[0m\u001b[0mX\u001b[0m\u001b[0;34m)\u001b[0m\u001b[0;34m\u001b[0m\u001b[0;34m\u001b[0m\u001b[0m\n\u001b[0m\u001b[1;32m   5627\u001b[0m         \u001b[0mim\u001b[0m\u001b[0;34m.\u001b[0m\u001b[0mset_alpha\u001b[0m\u001b[0;34m(\u001b[0m\u001b[0malpha\u001b[0m\u001b[0;34m)\u001b[0m\u001b[0;34m\u001b[0m\u001b[0;34m\u001b[0m\u001b[0m\n\u001b[1;32m   5628\u001b[0m         \u001b[0;32mif\u001b[0m \u001b[0mim\u001b[0m\u001b[0;34m.\u001b[0m\u001b[0mget_clip_path\u001b[0m\u001b[0;34m(\u001b[0m\u001b[0;34m)\u001b[0m \u001b[0;32mis\u001b[0m \u001b[0;32mNone\u001b[0m\u001b[0;34m:\u001b[0m\u001b[0;34m\u001b[0m\u001b[0;34m\u001b[0m\u001b[0m\n",
      "\u001b[0;32m~/.conda/envs/cv1/lib/python3.8/site-packages/matplotlib/image.py\u001b[0m in \u001b[0;36mset_data\u001b[0;34m(self, A)\u001b[0m\n\u001b[1;32m    696\u001b[0m         if not (self._A.ndim == 2\n\u001b[1;32m    697\u001b[0m                 or self._A.ndim == 3 and self._A.shape[-1] in [3, 4]):\n\u001b[0;32m--> 698\u001b[0;31m             raise TypeError(\"Invalid shape {} for image data\"\n\u001b[0m\u001b[1;32m    699\u001b[0m                             .format(self._A.shape))\n\u001b[1;32m    700\u001b[0m \u001b[0;34m\u001b[0m\u001b[0m\n",
      "\u001b[0;31mTypeError\u001b[0m: Invalid shape (256, 256, 2) for image data"
     ]
    },
    {
     "data": {
      "image/png": "[encoded data removed]",
      "text/plain": [
       "<Figure size 432x288 with 1 Axes>"
      ]
     },
     "metadata": {
      "needs_background": "light"
     },
     "output_type": "display_data"
    }
   ],
   "source": [
    "\n",
    "model.eval()\n",
    "print(\"here\")\n",
    "with torch.set_grad_enabled(False):\n",
    "    print(\"here1\",len(test_gen))\n",
    "    for batch,labels in test_gen:\n",
    "#             print(\"here2\")\n",
    "        batch=batch.float()\n",
    "        labels=labels.float()\n",
    "#         labels = ((labels - labels.min()) * (1/(labels.max() - labels.min())*30))\n",
    "        print(\"batch size\", batch.size())\n",
    "#             batch,label=Variable(batch,requires_grad=True),Variable(labels,requires_grad=True)\n",
    "#             print(batch,label)\n",
    "        batch = F.normalize(batch,mean=[0.485,0.456,0.406],std=[0.229,0.224,0.225])\n",
    "        predictions=model(batch)\n",
    "#             print(\"predictions\" ,predictions)\n",
    "#             print(\"predictions size\",predictions.size())\n",
    "#             print(\"norm_pred\",norm_pred.size())\n",
    "#         npred = torch.argmax(predictions.squeeze(),dim=1)\n",
    "        predictions = predictions.type(torch.FloatTensor)\n",
    "        npred = torch.nn.functional.softmax(predictions,dim =1)\n",
    "        print(\"np \", npred.size())\n",
    "        labels = labels.squeeze(1)\n",
    "        labels = labels.type(torch.LongTensor)\n",
    "        print(\"label size\", labels.size())\n",
    "        print(labels)\n",
    "        show(labels)\n",
    "        pred_loss = lossfunc(npred,labels) \n",
    "        testing_loss.append(pred_loss)\n",
    "#             print(\"pred_loss\",pred_loss)\n",
    "#         print(\"batch[0]\",batch[0])\n",
    "        masks = [\n",
    "            npred[img_idx,sem_class_to_idx[cls]]\n",
    "            for img_idx in range(batch.shape[0])\n",
    "            for cls in classes]\n",
    "        break\n"
   ]
  },
  {
   "cell_type": "code",
   "execution_count": 15,
   "metadata": {},
   "outputs": [
    {
     "name": "stdout",
     "output_type": "stream",
     "text": [
      "testing_total_loss [tensor(3.4795)]\n"
     ]
    }
   ],
   "source": [
    "print(\"testing_total_loss\",testing_loss)\n"
   ]
  },
  {
   "cell_type": "code",
   "execution_count": 37,
   "metadata": {},
   "outputs": [
    {
     "name": "stdout",
     "output_type": "stream",
     "text": [
      "tensor([[0.0102, 0.0099, 0.0083,  ..., 0.0101, 0.0079, 0.0091],\n",
      "        [0.0082, 0.0047, 0.0086,  ..., 0.0093, 0.0107, 0.0065],\n",
      "        [0.0083, 0.0093, 0.0079,  ..., 0.0101, 0.0083, 0.0095],\n",
      "        ...,\n",
      "        [0.0090, 0.0049, 0.0076,  ..., 0.0038, 0.0086, 0.0077],\n",
      "        [0.0065, 0.0088, 0.0085,  ..., 0.0076, 0.0077, 0.0077],\n",
      "        [0.0090, 0.0072, 0.0082,  ..., 0.0071, 0.0099, 0.0079]])\n",
      "tensor([[0., 0., 0.,  ..., 0., 0., 0.],\n",
      "        [0., 0., 0.,  ..., 0., 0., 0.],\n",
      "        [0., 0., 0.,  ..., 0., 0., 0.],\n",
      "        ...,\n",
      "        [0., 0., 0.,  ..., 0., 0., 0.],\n",
      "        [0., 0., 0.,  ..., 0., 0., 0.],\n",
      "        [0., 0., 0.,  ..., 0., 0., 0.]])\n",
      "tensor([[0.5344, 0.5830, 0.6431,  ..., 0.5975, 0.5960, 0.6170],\n",
      "        [0.6560, 0.7495, 0.6169,  ..., 0.5872, 0.5427, 0.6109],\n",
      "        [0.6344, 0.6469, 0.5166,  ..., 0.5496, 0.6270, 0.6222],\n",
      "        ...,\n",
      "        [0.6506, 0.6969, 0.6358,  ..., 0.7450, 0.6139, 0.5886],\n",
      "        [0.6257, 0.6116, 0.5639,  ..., 0.6516, 0.6627, 0.6361],\n",
      "        [0.6620, 0.6486, 0.6636,  ..., 0.6385, 0.6091, 0.5701]])\n",
      "tensor([[1., 1., 1.,  ..., 1., 1., 1.],\n",
      "        [1., 1., 1.,  ..., 1., 1., 1.],\n",
      "        [1., 1., 1.,  ..., 1., 1., 1.],\n",
      "        ...,\n",
      "        [1., 1., 1.,  ..., 1., 1., 1.],\n",
      "        [1., 1., 1.,  ..., 1., 1., 1.],\n",
      "        [1., 1., 1.,  ..., 1., 1., 1.]])\n",
      "tensor([[0.0181, 0.0154, 0.0128,  ..., 0.0143, 0.0127, 0.0138],\n",
      "        [0.0104, 0.0079, 0.0149,  ..., 0.0149, 0.0130, 0.0174],\n",
      "        [0.0117, 0.0125, 0.0150,  ..., 0.0135, 0.0134, 0.0119],\n",
      "        ...,\n",
      "        [0.0124, 0.0128, 0.0124,  ..., 0.0093, 0.0130, 0.0155],\n",
      "        [0.0144, 0.0148, 0.0163,  ..., 0.0127, 0.0122, 0.0133],\n",
      "        [0.0109, 0.0116, 0.0100,  ..., 0.0137, 0.0117, 0.0172]])\n",
      "tensor([[0., 0., 0.,  ..., 0., 0., 0.],\n",
      "        [0., 0., 0.,  ..., 0., 0., 0.],\n",
      "        [0., 0., 0.,  ..., 0., 0., 0.],\n",
      "        ...,\n",
      "        [0., 0., 0.,  ..., 0., 0., 0.],\n",
      "        [0., 0., 0.,  ..., 0., 0., 0.],\n",
      "        [0., 0., 0.,  ..., 0., 0., 0.]])\n",
      "tensor([[0.0153, 0.0198, 0.0104,  ..., 0.0163, 0.0117, 0.0148],\n",
      "        [0.0144, 0.0065, 0.0157,  ..., 0.0092, 0.0232, 0.0170],\n",
      "        [0.0119, 0.0147, 0.0180,  ..., 0.0183, 0.0167, 0.0166],\n",
      "        ...,\n",
      "        [0.0135, 0.0085, 0.0168,  ..., 0.0083, 0.0166, 0.0182],\n",
      "        [0.0128, 0.0149, 0.0183,  ..., 0.0130, 0.0133, 0.0151],\n",
      "        [0.0145, 0.0131, 0.0149,  ..., 0.0127, 0.0176, 0.0185]])\n",
      "tensor([[0., 0., 0.,  ..., 0., 0., 0.],\n",
      "        [0., 0., 0.,  ..., 0., 0., 0.],\n",
      "        [0., 0., 0.,  ..., 0., 0., 0.],\n",
      "        ...,\n",
      "        [0., 0., 0.,  ..., 0., 0., 0.],\n",
      "        [0., 0., 0.,  ..., 0., 0., 0.],\n",
      "        [0., 0., 0.,  ..., 0., 0., 0.]])\n",
      "tensor([[0.0166, 0.0146, 0.0100,  ..., 0.0146, 0.0133, 0.0125],\n",
      "        [0.0096, 0.0043, 0.0113,  ..., 0.0096, 0.0120, 0.0083],\n",
      "        [0.0115, 0.0118, 0.0115,  ..., 0.0127, 0.0099, 0.0124],\n",
      "        ...,\n",
      "        [0.0108, 0.0079, 0.0086,  ..., 0.0063, 0.0096, 0.0088],\n",
      "        [0.0107, 0.0133, 0.0131,  ..., 0.0116, 0.0104, 0.0115],\n",
      "        [0.0109, 0.0109, 0.0091,  ..., 0.0104, 0.0107, 0.0110]])\n",
      "tensor([[0., 0., 0.,  ..., 0., 0., 0.],\n",
      "        [0., 0., 0.,  ..., 0., 0., 0.],\n",
      "        [0., 0., 0.,  ..., 0., 0., 0.],\n",
      "        ...,\n",
      "        [0., 0., 0.,  ..., 0., 0., 0.],\n",
      "        [0., 0., 0.,  ..., 0., 0., 0.],\n",
      "        [0., 0., 0.,  ..., 0., 0., 0.]])\n",
      "tensor([[0.0137, 0.0091, 0.0092,  ..., 0.0085, 0.0151, 0.0104],\n",
      "        [0.0120, 0.0083, 0.0087,  ..., 0.0150, 0.0114, 0.0132],\n",
      "        [0.0099, 0.0110, 0.0204,  ..., 0.0124, 0.0121, 0.0112],\n",
      "        ...,\n",
      "        [0.0094, 0.0105, 0.0108,  ..., 0.0095, 0.0111, 0.0126],\n",
      "        [0.0129, 0.0090, 0.0118,  ..., 0.0109, 0.0105, 0.0090],\n",
      "        [0.0112, 0.0144, 0.0097,  ..., 0.0129, 0.0112, 0.0135]])\n",
      "tensor([[0., 0., 0.,  ..., 0., 0., 0.],\n",
      "        [0., 0., 0.,  ..., 0., 0., 0.],\n",
      "        [0., 0., 0.,  ..., 0., 0., 0.],\n",
      "        ...,\n",
      "        [0., 0., 0.,  ..., 0., 0., 0.],\n",
      "        [0., 0., 0.,  ..., 0., 0., 0.],\n",
      "        [0., 0., 0.,  ..., 0., 0., 0.]])\n",
      "tensor([[0.0160, 0.0167, 0.0123,  ..., 0.0149, 0.0168, 0.0148],\n",
      "        [0.0119, 0.0174, 0.0138,  ..., 0.0159, 0.0127, 0.0146],\n",
      "        [0.0126, 0.0134, 0.0204,  ..., 0.0169, 0.0160, 0.0135],\n",
      "        ...,\n",
      "        [0.0104, 0.0123, 0.0114,  ..., 0.0127, 0.0107, 0.0163],\n",
      "        [0.0153, 0.0125, 0.0145,  ..., 0.0131, 0.0122, 0.0125],\n",
      "        [0.0106, 0.0149, 0.0121,  ..., 0.0169, 0.0138, 0.0184]])\n",
      "tensor([[0., 0., 0.,  ..., 0., 0., 0.],\n",
      "        [0., 0., 0.,  ..., 0., 0., 0.],\n",
      "        [0., 0., 0.,  ..., 0., 0., 0.],\n",
      "        ...,\n",
      "        [0., 0., 0.,  ..., 0., 0., 0.],\n",
      "        [0., 0., 0.,  ..., 0., 0., 0.],\n",
      "        [0., 0., 0.,  ..., 0., 0., 0.]])\n",
      "tensor([[0.0170, 0.0149, 0.0159,  ..., 0.0143, 0.0143, 0.0158],\n",
      "        [0.0162, 0.0139, 0.0161,  ..., 0.0145, 0.0243, 0.0153],\n",
      "        [0.0152, 0.0161, 0.0176,  ..., 0.0195, 0.0142, 0.0187],\n",
      "        ...,\n",
      "        [0.0170, 0.0127, 0.0192,  ..., 0.0099, 0.0197, 0.0170],\n",
      "        [0.0138, 0.0148, 0.0168,  ..., 0.0139, 0.0158, 0.0159],\n",
      "        [0.0185, 0.0136, 0.0170,  ..., 0.0145, 0.0205, 0.0160]])\n",
      "tensor([[0., 0., 0.,  ..., 0., 0., 0.],\n",
      "        [0., 0., 0.,  ..., 0., 0., 0.],\n",
      "        [0., 0., 0.,  ..., 0., 0., 0.],\n",
      "        ...,\n",
      "        [0., 0., 0.,  ..., 0., 0., 0.],\n",
      "        [0., 0., 0.,  ..., 0., 0., 0.],\n",
      "        [0., 0., 0.,  ..., 0., 0., 0.]])\n",
      "tensor([[0.0184, 0.0136, 0.0124,  ..., 0.0130, 0.0146, 0.0124],\n",
      "        [0.0116, 0.0054, 0.0122,  ..., 0.0127, 0.0130, 0.0161],\n",
      "        [0.0128, 0.0139, 0.0163,  ..., 0.0162, 0.0136, 0.0114],\n",
      "        ...,\n",
      "        [0.0127, 0.0088, 0.0107,  ..., 0.0083, 0.0115, 0.0143],\n",
      "        [0.0148, 0.0145, 0.0156,  ..., 0.0124, 0.0120, 0.0113],\n",
      "        [0.0112, 0.0116, 0.0096,  ..., 0.0129, 0.0102, 0.0163]])\n",
      "tensor([[0., 0., 0.,  ..., 0., 0., 0.],\n",
      "        [0., 0., 0.,  ..., 0., 0., 0.],\n",
      "        [0., 0., 0.,  ..., 0., 0., 0.],\n",
      "        ...,\n",
      "        [0., 0., 0.,  ..., 0., 0., 0.],\n",
      "        [0., 0., 0.,  ..., 0., 0., 0.],\n",
      "        [0., 0., 0.,  ..., 0., 0., 0.]])\n",
      "tensor([[0.0144, 0.0121, 0.0099,  ..., 0.0122, 0.0092, 0.0103],\n",
      "        [0.0090, 0.0056, 0.0124,  ..., 0.0072, 0.0163, 0.0132],\n",
      "        [0.0130, 0.0115, 0.0143,  ..., 0.0144, 0.0106, 0.0082],\n",
      "        ...,\n",
      "        [0.0101, 0.0060, 0.0111,  ..., 0.0058, 0.0128, 0.0151],\n",
      "        [0.0124, 0.0131, 0.0151,  ..., 0.0098, 0.0092, 0.0098],\n",
      "        [0.0077, 0.0078, 0.0088,  ..., 0.0093, 0.0100, 0.0120]])\n",
      "tensor([[0., 0., 0.,  ..., 0., 0., 0.],\n",
      "        [0., 0., 0.,  ..., 0., 0., 0.],\n",
      "        [0., 0., 0.,  ..., 0., 0., 0.],\n",
      "        ...,\n",
      "        [0., 0., 0.,  ..., 0., 0., 0.],\n",
      "        [0., 0., 0.,  ..., 0., 0., 0.],\n",
      "        [0., 0., 0.,  ..., 0., 0., 0.]])\n",
      "tensor([[0.0179, 0.0193, 0.0161,  ..., 0.0184, 0.0174, 0.0165],\n",
      "        [0.0154, 0.0168, 0.0187,  ..., 0.0218, 0.0202, 0.0177],\n",
      "        [0.0147, 0.0136, 0.0189,  ..., 0.0221, 0.0145, 0.0156],\n",
      "        ...,\n",
      "        [0.0154, 0.0171, 0.0136,  ..., 0.0129, 0.0160, 0.0167],\n",
      "        [0.0145, 0.0177, 0.0170,  ..., 0.0135, 0.0134, 0.0165],\n",
      "        [0.0159, 0.0129, 0.0156,  ..., 0.0154, 0.0167, 0.0194]])\n",
      "tensor([[0., 0., 0.,  ..., 0., 0., 0.],\n",
      "        [0., 0., 0.,  ..., 0., 0., 0.],\n",
      "        [0., 0., 0.,  ..., 0., 0., 0.],\n",
      "        ...,\n",
      "        [0., 0., 0.,  ..., 0., 0., 0.],\n",
      "        [0., 0., 0.,  ..., 0., 0., 0.],\n",
      "        [0., 0., 0.,  ..., 0., 0., 0.]])\n",
      "tensor([[0.0152, 0.0103, 0.0126,  ..., 0.0095, 0.0113, 0.0109],\n",
      "        [0.0086, 0.0075, 0.0101,  ..., 0.0081, 0.0099, 0.0133],\n",
      "        [0.0099, 0.0103, 0.0149,  ..., 0.0113, 0.0118, 0.0095],\n",
      "        ...,\n",
      "        [0.0108, 0.0047, 0.0085,  ..., 0.0059, 0.0129, 0.0130],\n",
      "        [0.0096, 0.0092, 0.0123,  ..., 0.0084, 0.0097, 0.0104],\n",
      "        [0.0101, 0.0109, 0.0102,  ..., 0.0120, 0.0128, 0.0125]])\n",
      "tensor([[0., 0., 0.,  ..., 0., 0., 0.],\n",
      "        [0., 0., 0.,  ..., 0., 0., 0.],\n",
      "        [0., 0., 0.,  ..., 0., 0., 0.],\n",
      "        ...,\n",
      "        [0., 0., 0.,  ..., 0., 0., 0.],\n",
      "        [0., 0., 0.,  ..., 0., 0., 0.],\n",
      "        [0., 0., 0.,  ..., 0., 0., 0.]])\n",
      "tensor([[0.0164, 0.0149, 0.0139,  ..., 0.0158, 0.0139, 0.0146],\n",
      "        [0.0101, 0.0094, 0.0139,  ..., 0.0186, 0.0134, 0.0095],\n",
      "        [0.0130, 0.0103, 0.0128,  ..., 0.0169, 0.0096, 0.0120],\n",
      "        ...,\n",
      "        [0.0124, 0.0094, 0.0097,  ..., 0.0076, 0.0127, 0.0105],\n",
      "        [0.0115, 0.0146, 0.0142,  ..., 0.0104, 0.0098, 0.0133],\n",
      "        [0.0103, 0.0097, 0.0107,  ..., 0.0113, 0.0130, 0.0126]])\n",
      "tensor([[0., 0., 0.,  ..., 0., 0., 0.],\n",
      "        [0., 0., 0.,  ..., 0., 0., 0.],\n",
      "        [0., 0., 0.,  ..., 0., 0., 0.],\n",
      "        ...,\n",
      "        [0., 0., 0.,  ..., 0., 0., 0.],\n",
      "        [0., 0., 0.,  ..., 0., 0., 0.],\n",
      "        [0., 0., 0.,  ..., 0., 0., 0.]])\n",
      "tensor([[0.0152, 0.0123, 0.0111,  ..., 0.0122, 0.0100, 0.0136],\n",
      "        [0.0087, 0.0067, 0.0098,  ..., 0.0159, 0.0123, 0.0116],\n",
      "        [0.0101, 0.0165, 0.0122,  ..., 0.0124, 0.0116, 0.0132],\n",
      "        ...,\n",
      "        [0.0096, 0.0077, 0.0101,  ..., 0.0055, 0.0122, 0.0132],\n",
      "        [0.0104, 0.0133, 0.0121,  ..., 0.0127, 0.0111, 0.0120],\n",
      "        [0.0116, 0.0112, 0.0098,  ..., 0.0121, 0.0136, 0.0128]])\n",
      "tensor([[0., 0., 0.,  ..., 0., 0., 0.],\n",
      "        [0., 0., 0.,  ..., 0., 0., 0.],\n",
      "        [0., 0., 0.,  ..., 0., 0., 0.],\n",
      "        ...,\n",
      "        [0., 0., 0.,  ..., 0., 0., 0.],\n",
      "        [0., 0., 0.,  ..., 0., 0., 0.],\n",
      "        [0., 0., 0.,  ..., 0., 0., 0.]])\n",
      "tensor([[0.0147, 0.0161, 0.0124,  ..., 0.0177, 0.0162, 0.0133],\n",
      "        [0.0172, 0.0102, 0.0162,  ..., 0.0112, 0.0269, 0.0122],\n",
      "        [0.0169, 0.0123, 0.0195,  ..., 0.0212, 0.0131, 0.0160],\n",
      "        ...,\n",
      "        [0.0136, 0.0128, 0.0194,  ..., 0.0104, 0.0154, 0.0140],\n",
      "        [0.0148, 0.0160, 0.0176,  ..., 0.0132, 0.0131, 0.0140],\n",
      "        [0.0136, 0.0125, 0.0148,  ..., 0.0107, 0.0148, 0.0139]])\n",
      "tensor([[0., 0., 0.,  ..., 0., 0., 0.],\n",
      "        [0., 0., 0.,  ..., 0., 0., 0.],\n",
      "        [0., 0., 0.,  ..., 0., 0., 0.],\n",
      "        ...,\n",
      "        [0., 0., 0.,  ..., 0., 0., 0.],\n",
      "        [0., 0., 0.,  ..., 0., 0., 0.],\n",
      "        [0., 0., 0.,  ..., 0., 0., 0.]])\n",
      "tensor([[0.0118, 0.0113, 0.0087,  ..., 0.0114, 0.0125, 0.0089],\n",
      "        [0.0091, 0.0050, 0.0101,  ..., 0.0089, 0.0119, 0.0100],\n",
      "        [0.0097, 0.0074, 0.0140,  ..., 0.0127, 0.0093, 0.0082],\n",
      "        ...,\n",
      "        [0.0086, 0.0089, 0.0085,  ..., 0.0069, 0.0081, 0.0102],\n",
      "        [0.0111, 0.0099, 0.0105,  ..., 0.0088, 0.0075, 0.0081],\n",
      "        [0.0075, 0.0076, 0.0070,  ..., 0.0083, 0.0082, 0.0121]])\n",
      "tensor([[0., 0., 0.,  ..., 0., 0., 0.],\n",
      "        [0., 0., 0.,  ..., 0., 0., 0.],\n",
      "        [0., 0., 0.,  ..., 0., 0., 0.],\n",
      "        ...,\n",
      "        [0., 0., 0.,  ..., 0., 0., 0.],\n",
      "        [0., 0., 0.,  ..., 0., 0., 0.],\n",
      "        [0., 0., 0.,  ..., 0., 0., 0.]])\n",
      "tensor([[0.0134, 0.0124, 0.0117,  ..., 0.0115, 0.0152, 0.0139],\n",
      "        [0.0128, 0.0112, 0.0111,  ..., 0.0221, 0.0152, 0.0110],\n",
      "        [0.0109, 0.0103, 0.0179,  ..., 0.0170, 0.0114, 0.0142],\n",
      "        ...,\n",
      "        [0.0129, 0.0121, 0.0115,  ..., 0.0094, 0.0131, 0.0118],\n",
      "        [0.0110, 0.0107, 0.0114,  ..., 0.0111, 0.0101, 0.0118],\n",
      "        [0.0132, 0.0127, 0.0118,  ..., 0.0122, 0.0161, 0.0147]])\n",
      "tensor([[0., 0., 0.,  ..., 0., 0., 0.],\n",
      "        [0., 0., 0.,  ..., 0., 0., 0.],\n",
      "        [0., 0., 0.,  ..., 0., 0., 0.],\n",
      "        ...,\n",
      "        [0., 0., 0.,  ..., 0., 0., 0.],\n",
      "        [0., 0., 0.,  ..., 0., 0., 0.],\n",
      "        [0., 0., 0.,  ..., 0., 0., 0.]])\n",
      "tensor([[0.0135, 0.0087, 0.0097,  ..., 0.0083, 0.0140, 0.0087],\n",
      "        [0.0108, 0.0074, 0.0084,  ..., 0.0149, 0.0109, 0.0142],\n",
      "        [0.0100, 0.0083, 0.0205,  ..., 0.0096, 0.0128, 0.0103],\n",
      "        ...,\n",
      "        [0.0083, 0.0116, 0.0128,  ..., 0.0101, 0.0108, 0.0129],\n",
      "        [0.0126, 0.0088, 0.0149,  ..., 0.0094, 0.0108, 0.0088],\n",
      "        [0.0087, 0.0141, 0.0097,  ..., 0.0107, 0.0097, 0.0122]])\n",
      "tensor([[0., 0., 0.,  ..., 0., 0., 0.],\n",
      "        [0., 0., 0.,  ..., 0., 0., 0.],\n",
      "        [0., 0., 0.,  ..., 0., 0., 0.],\n",
      "        ...,\n",
      "        [0., 0., 0.,  ..., 0., 0., 0.],\n",
      "        [0., 0., 0.,  ..., 0., 0., 0.],\n",
      "        [0., 0., 0.,  ..., 0., 0., 0.]])\n",
      "tensor([[0.0207, 0.0186, 0.0136,  ..., 0.0165, 0.0156, 0.0147],\n",
      "        [0.0128, 0.0075, 0.0203,  ..., 0.0127, 0.0181, 0.0178],\n",
      "        [0.0153, 0.0167, 0.0175,  ..., 0.0158, 0.0167, 0.0147],\n",
      "        ...,\n",
      "        [0.0128, 0.0130, 0.0154,  ..., 0.0124, 0.0140, 0.0214],\n",
      "        [0.0174, 0.0161, 0.0178,  ..., 0.0160, 0.0154, 0.0132],\n",
      "        [0.0119, 0.0136, 0.0130,  ..., 0.0162, 0.0144, 0.0199]])\n",
      "tensor([[0., 0., 0.,  ..., 0., 0., 0.],\n",
      "        [0., 0., 0.,  ..., 0., 0., 0.],\n",
      "        [0., 0., 0.,  ..., 0., 0., 0.],\n",
      "        ...,\n",
      "        [0., 0., 0.,  ..., 0., 0., 0.],\n",
      "        [0., 0., 0.,  ..., 0., 0., 0.],\n",
      "        [0., 0., 0.,  ..., 0., 0., 0.]])\n",
      "tensor([[0.0222, 0.0130, 0.0172,  ..., 0.0108, 0.0195, 0.0136],\n",
      "        [0.0136, 0.0111, 0.0161,  ..., 0.0190, 0.0167, 0.0197],\n",
      "        [0.0138, 0.0111, 0.0259,  ..., 0.0145, 0.0207, 0.0127],\n",
      "        ...,\n",
      "        [0.0147, 0.0125, 0.0140,  ..., 0.0117, 0.0177, 0.0220],\n",
      "        [0.0162, 0.0115, 0.0198,  ..., 0.0130, 0.0140, 0.0119],\n",
      "        [0.0122, 0.0188, 0.0121,  ..., 0.0181, 0.0156, 0.0189]])\n",
      "tensor([[0., 0., 0.,  ..., 0., 0., 0.],\n",
      "        [0., 0., 0.,  ..., 0., 0., 0.],\n",
      "        [0., 0., 0.,  ..., 0., 0., 0.],\n",
      "        ...,\n",
      "        [0., 0., 0.,  ..., 0., 0., 0.],\n",
      "        [0., 0., 0.,  ..., 0., 0., 0.],\n",
      "        [0., 0., 0.,  ..., 0., 0., 0.]])\n",
      "tensor([[0.0137, 0.0124, 0.0105,  ..., 0.0127, 0.0112, 0.0123],\n",
      "        [0.0097, 0.0081, 0.0115,  ..., 0.0171, 0.0150, 0.0116],\n",
      "        [0.0119, 0.0115, 0.0144,  ..., 0.0152, 0.0102, 0.0115],\n",
      "        ...,\n",
      "        [0.0105, 0.0102, 0.0113,  ..., 0.0068, 0.0115, 0.0134],\n",
      "        [0.0117, 0.0139, 0.0133,  ..., 0.0122, 0.0099, 0.0114],\n",
      "        [0.0092, 0.0102, 0.0089,  ..., 0.0103, 0.0110, 0.0134]])\n",
      "tensor([[0., 0., 0.,  ..., 0., 0., 0.],\n",
      "        [0., 0., 0.,  ..., 0., 0., 0.],\n",
      "        [0., 0., 0.,  ..., 0., 0., 0.],\n",
      "        ...,\n",
      "        [0., 0., 0.,  ..., 0., 0., 0.],\n",
      "        [0., 0., 0.,  ..., 0., 0., 0.],\n",
      "        [0., 0., 0.,  ..., 0., 0., 0.]])\n"
     ]
    },
    {
     "name": "stderr",
     "output_type": "stream",
     "text": [
      "<ipython-input-37-54b9aea08a2b>:5: RuntimeWarning: More than 20 figures have been opened. Figures created through the pyplot interface (`matplotlib.pyplot.figure`) are retained until explicitly closed and may consume too much memory. (To control this warning, see the rcParam `figure.max_open_warning`).\n",
      "  fix, axs = plt.subplots(ncols=len(imgs), squeeze=False)\n"
     ]
    },
    {
     "name": "stdout",
     "output_type": "stream",
     "text": [
      "tensor([[0.0156, 0.0137, 0.0101,  ..., 0.0130, 0.0111, 0.0119],\n",
      "        [0.0106, 0.0066, 0.0124,  ..., 0.0153, 0.0147, 0.0149],\n",
      "        [0.0116, 0.0112, 0.0135,  ..., 0.0113, 0.0122, 0.0109],\n",
      "        ...,\n",
      "        [0.0110, 0.0117, 0.0122,  ..., 0.0077, 0.0137, 0.0144],\n",
      "        [0.0129, 0.0127, 0.0137,  ..., 0.0118, 0.0107, 0.0112],\n",
      "        [0.0113, 0.0096, 0.0102,  ..., 0.0112, 0.0125, 0.0143]])\n",
      "tensor([[0., 0., 0.,  ..., 0., 0., 0.],\n",
      "        [0., 0., 0.,  ..., 0., 0., 0.],\n",
      "        [0., 0., 0.,  ..., 0., 0., 0.],\n",
      "        ...,\n",
      "        [0., 0., 0.,  ..., 0., 0., 0.],\n",
      "        [0., 0., 0.,  ..., 0., 0., 0.],\n",
      "        [0., 0., 0.,  ..., 0., 0., 0.]])\n",
      "tensor([[0.0142, 0.0145, 0.0155,  ..., 0.0153, 0.0139, 0.0140],\n",
      "        [0.0150, 0.0113, 0.0148,  ..., 0.0145, 0.0194, 0.0120],\n",
      "        [0.0144, 0.0113, 0.0152,  ..., 0.0185, 0.0128, 0.0138],\n",
      "        ...,\n",
      "        [0.0164, 0.0102, 0.0155,  ..., 0.0093, 0.0147, 0.0132],\n",
      "        [0.0120, 0.0132, 0.0138,  ..., 0.0119, 0.0120, 0.0131],\n",
      "        [0.0139, 0.0110, 0.0144,  ..., 0.0117, 0.0152, 0.0141]])\n",
      "tensor([[0., 0., 0.,  ..., 0., 0., 0.],\n",
      "        [0., 0., 0.,  ..., 0., 0., 0.],\n",
      "        [0., 0., 0.,  ..., 0., 0., 0.],\n",
      "        ...,\n",
      "        [0., 0., 0.,  ..., 0., 0., 0.],\n",
      "        [0., 0., 0.,  ..., 0., 0., 0.],\n",
      "        [0., 0., 0.,  ..., 0., 0., 0.]])\n",
      "tensor([[0.0177, 0.0118, 0.0130,  ..., 0.0127, 0.0147, 0.0131],\n",
      "        [0.0134, 0.0060, 0.0132,  ..., 0.0160, 0.0210, 0.0130],\n",
      "        [0.0160, 0.0131, 0.0205,  ..., 0.0176, 0.0116, 0.0132],\n",
      "        ...,\n",
      "        [0.0132, 0.0114, 0.0172,  ..., 0.0089, 0.0174, 0.0149],\n",
      "        [0.0147, 0.0158, 0.0184,  ..., 0.0135, 0.0127, 0.0135],\n",
      "        [0.0115, 0.0133, 0.0124,  ..., 0.0118, 0.0134, 0.0130]])\n",
      "tensor([[0., 0., 0.,  ..., 0., 0., 0.],\n",
      "        [0., 0., 0.,  ..., 0., 0., 0.],\n",
      "        [0., 0., 0.,  ..., 0., 0., 0.],\n",
      "        ...,\n",
      "        [0., 0., 0.,  ..., 0., 0., 0.],\n",
      "        [0., 0., 0.,  ..., 0., 0., 0.],\n",
      "        [0., 0., 0.,  ..., 0., 0., 0.]])\n",
      "tensor([[0.0121, 0.0103, 0.0091,  ..., 0.0107, 0.0102, 0.0106],\n",
      "        [0.0087, 0.0040, 0.0080,  ..., 0.0081, 0.0128, 0.0064],\n",
      "        [0.0095, 0.0089, 0.0123,  ..., 0.0120, 0.0084, 0.0106],\n",
      "        ...,\n",
      "        [0.0091, 0.0054, 0.0095,  ..., 0.0050, 0.0104, 0.0074],\n",
      "        [0.0080, 0.0105, 0.0117,  ..., 0.0085, 0.0081, 0.0101],\n",
      "        [0.0090, 0.0101, 0.0089,  ..., 0.0079, 0.0109, 0.0081]])\n",
      "tensor([[0., 0., 0.,  ..., 0., 0., 0.],\n",
      "        [0., 0., 0.,  ..., 0., 0., 0.],\n",
      "        [0., 0., 0.,  ..., 0., 0., 0.],\n",
      "        ...,\n",
      "        [0., 0., 0.,  ..., 0., 0., 0.],\n",
      "        [0., 0., 0.,  ..., 0., 0., 0.],\n",
      "        [0., 0., 0.,  ..., 0., 0., 0.]])\n",
      "tensor([[0.0149, 0.0121, 0.0087,  ..., 0.0106, 0.0113, 0.0131],\n",
      "        [0.0104, 0.0073, 0.0126,  ..., 0.0175, 0.0159, 0.0127],\n",
      "        [0.0104, 0.0115, 0.0180,  ..., 0.0124, 0.0111, 0.0135],\n",
      "        ...,\n",
      "        [0.0101, 0.0167, 0.0142,  ..., 0.0103, 0.0133, 0.0139],\n",
      "        [0.0126, 0.0125, 0.0142,  ..., 0.0133, 0.0110, 0.0125],\n",
      "        [0.0113, 0.0123, 0.0113,  ..., 0.0126, 0.0137, 0.0140]])\n",
      "tensor([[0., 0., 0.,  ..., 0., 0., 0.],\n",
      "        [0., 0., 0.,  ..., 0., 0., 0.],\n",
      "        [0., 0., 0.,  ..., 0., 0., 0.],\n",
      "        ...,\n",
      "        [0., 0., 0.,  ..., 0., 0., 0.],\n",
      "        [0., 0., 0.,  ..., 0., 0., 0.],\n",
      "        [0., 0., 0.,  ..., 0., 0., 0.]])\n",
      "tensor([[0.0152, 0.0172, 0.0107,  ..., 0.0164, 0.0124, 0.0134],\n",
      "        [0.0103, 0.0052, 0.0104,  ..., 0.0074, 0.0126, 0.0097],\n",
      "        [0.0126, 0.0115, 0.0126,  ..., 0.0137, 0.0108, 0.0133],\n",
      "        ...,\n",
      "        [0.0111, 0.0066, 0.0105,  ..., 0.0072, 0.0122, 0.0100],\n",
      "        [0.0113, 0.0132, 0.0151,  ..., 0.0100, 0.0110, 0.0142],\n",
      "        [0.0106, 0.0103, 0.0120,  ..., 0.0103, 0.0140, 0.0121]])\n",
      "tensor([[0., 0., 0.,  ..., 0., 0., 0.],\n",
      "        [0., 0., 0.,  ..., 0., 0., 0.],\n",
      "        [0., 0., 0.,  ..., 0., 0., 0.],\n",
      "        ...,\n",
      "        [0., 0., 0.,  ..., 0., 0., 0.],\n",
      "        [0., 0., 0.,  ..., 0., 0., 0.],\n",
      "        [0., 0., 0.,  ..., 0., 0., 0.]])\n",
      "tensor([[0.0156, 0.0147, 0.0101,  ..., 0.0127, 0.0127, 0.0116],\n",
      "        [0.0086, 0.0067, 0.0101,  ..., 0.0120, 0.0089, 0.0131],\n",
      "        [0.0098, 0.0091, 0.0135,  ..., 0.0103, 0.0112, 0.0141],\n",
      "        ...,\n",
      "        [0.0086, 0.0083, 0.0089,  ..., 0.0067, 0.0102, 0.0125],\n",
      "        [0.0117, 0.0116, 0.0153,  ..., 0.0108, 0.0112, 0.0132],\n",
      "        [0.0093, 0.0109, 0.0091,  ..., 0.0110, 0.0112, 0.0149]])\n",
      "tensor([[0., 0., 0.,  ..., 0., 0., 0.],\n",
      "        [0., 0., 0.,  ..., 0., 0., 0.],\n",
      "        [0., 0., 0.,  ..., 0., 0., 0.],\n",
      "        ...,\n",
      "        [0., 0., 0.,  ..., 0., 0., 0.],\n",
      "        [0., 0., 0.,  ..., 0., 0., 0.],\n",
      "        [0., 0., 0.,  ..., 0., 0., 0.]])\n",
      "tensor([[0.0134, 0.0150, 0.0122,  ..., 0.0169, 0.0136, 0.0127],\n",
      "        [0.0108, 0.0078, 0.0143,  ..., 0.0119, 0.0139, 0.0103],\n",
      "        [0.0129, 0.0094, 0.0141,  ..., 0.0167, 0.0106, 0.0108],\n",
      "        ...,\n",
      "        [0.0108, 0.0084, 0.0095,  ..., 0.0076, 0.0109, 0.0117],\n",
      "        [0.0116, 0.0142, 0.0126,  ..., 0.0111, 0.0087, 0.0121],\n",
      "        [0.0094, 0.0087, 0.0106,  ..., 0.0098, 0.0109, 0.0130]])\n",
      "tensor([[0., 0., 0.,  ..., 0., 0., 0.],\n",
      "        [0., 0., 0.,  ..., 0., 0., 0.],\n",
      "        [0., 0., 0.,  ..., 0., 0., 0.],\n",
      "        ...,\n",
      "        [0., 0., 0.,  ..., 0., 0., 0.],\n",
      "        [0., 0., 0.,  ..., 0., 0., 0.],\n",
      "        [0., 0., 0.,  ..., 0., 0., 0.]])\n",
      "tensor([[0.0179, 0.0167, 0.0179,  ..., 0.0165, 0.0181, 0.0145],\n",
      "        [0.0135, 0.0125, 0.0138,  ..., 0.0171, 0.0156, 0.0153],\n",
      "        [0.0140, 0.0134, 0.0172,  ..., 0.0185, 0.0158, 0.0140],\n",
      "        ...,\n",
      "        [0.0138, 0.0091, 0.0125,  ..., 0.0100, 0.0139, 0.0156],\n",
      "        [0.0140, 0.0145, 0.0169,  ..., 0.0126, 0.0137, 0.0143],\n",
      "        [0.0129, 0.0151, 0.0125,  ..., 0.0152, 0.0147, 0.0176]])\n",
      "tensor([[0., 0., 0.,  ..., 0., 0., 0.],\n",
      "        [0., 0., 0.,  ..., 0., 0., 0.],\n",
      "        [0., 0., 0.,  ..., 0., 0., 0.],\n",
      "        ...,\n",
      "        [0., 0., 0.,  ..., 0., 0., 0.],\n",
      "        [0., 0., 0.,  ..., 0., 0., 0.],\n",
      "        [0., 0., 0.,  ..., 0., 0., 0.]])\n",
      "tensor([[0.0147, 0.0156, 0.0111,  ..., 0.0148, 0.0138, 0.0133],\n",
      "        [0.0107, 0.0080, 0.0139,  ..., 0.0143, 0.0153, 0.0115],\n",
      "        [0.0114, 0.0112, 0.0166,  ..., 0.0167, 0.0119, 0.0124],\n",
      "        ...,\n",
      "        [0.0105, 0.0110, 0.0108,  ..., 0.0089, 0.0113, 0.0132],\n",
      "        [0.0113, 0.0129, 0.0135,  ..., 0.0111, 0.0101, 0.0125],\n",
      "        [0.0100, 0.0111, 0.0119,  ..., 0.0121, 0.0131, 0.0154]])\n",
      "tensor([[0., 0., 0.,  ..., 0., 0., 0.],\n",
      "        [0., 0., 0.,  ..., 0., 0., 0.],\n",
      "        [0., 0., 0.,  ..., 0., 0., 0.],\n",
      "        ...,\n",
      "        [0., 0., 0.,  ..., 0., 0., 0.],\n",
      "        [0., 0., 0.,  ..., 0., 0., 0.],\n",
      "        [0., 0., 0.,  ..., 0., 0., 0.]])\n",
      "tensor([[0.0092, 0.0112, 0.0067,  ..., 0.0102, 0.0092, 0.0079],\n",
      "        [0.0084, 0.0051, 0.0095,  ..., 0.0085, 0.0087, 0.0082],\n",
      "        [0.0061, 0.0061, 0.0083,  ..., 0.0083, 0.0115, 0.0082],\n",
      "        ...,\n",
      "        [0.0089, 0.0042, 0.0089,  ..., 0.0029, 0.0089, 0.0082],\n",
      "        [0.0068, 0.0078, 0.0087,  ..., 0.0080, 0.0080, 0.0072],\n",
      "        [0.0091, 0.0079, 0.0106,  ..., 0.0066, 0.0093, 0.0071]])\n",
      "tensor([[0., 0., 0.,  ..., 0., 0., 0.],\n",
      "        [0., 0., 0.,  ..., 0., 0., 0.],\n",
      "        [0., 0., 0.,  ..., 0., 0., 0.],\n",
      "        ...,\n",
      "        [0., 0., 0.,  ..., 0., 0., 0.],\n",
      "        [0., 0., 0.,  ..., 0., 0., 0.],\n",
      "        [0., 0., 0.,  ..., 0., 0., 0.]])\n",
      "tensor([[0.6145, 0.6396, 0.6476,  ..., 0.6032, 0.6012, 0.5934],\n",
      "        [0.6703, 0.7250, 0.5352,  ..., 0.5415, 0.6721, 0.5804],\n",
      "        [0.6793, 0.6693, 0.4815,  ..., 0.5920, 0.4882, 0.6350],\n",
      "        ...,\n",
      "        [0.6656, 0.6712, 0.6204,  ..., 0.7712, 0.6175, 0.5741],\n",
      "        [0.6405, 0.6522, 0.5783,  ..., 0.6583, 0.6579, 0.6536],\n",
      "        [0.6572, 0.5935, 0.6322,  ..., 0.6289, 0.6145, 0.6381]])\n",
      "tensor([[1., 1., 1.,  ..., 1., 1., 1.],\n",
      "        [1., 1., 1.,  ..., 1., 1., 1.],\n",
      "        [1., 1., 0.,  ..., 1., 0., 1.],\n",
      "        ...,\n",
      "        [1., 1., 1.,  ..., 1., 1., 1.],\n",
      "        [1., 1., 1.,  ..., 1., 1., 1.],\n",
      "        [1., 1., 1.,  ..., 1., 1., 1.]])\n",
      "tensor([[0.0144, 0.0114, 0.0115,  ..., 0.0136, 0.0125, 0.0150],\n",
      "        [0.0119, 0.0081, 0.0181,  ..., 0.0157, 0.0107, 0.0186],\n",
      "        [0.0112, 0.0123, 0.0170,  ..., 0.0126, 0.0194, 0.0125],\n",
      "        ...,\n",
      "        [0.0125, 0.0136, 0.0148,  ..., 0.0081, 0.0124, 0.0157],\n",
      "        [0.0138, 0.0138, 0.0174,  ..., 0.0132, 0.0122, 0.0126],\n",
      "        [0.0112, 0.0141, 0.0103,  ..., 0.0143, 0.0122, 0.0147]])\n",
      "tensor([[0., 0., 0.,  ..., 0., 0., 0.],\n",
      "        [0., 0., 0.,  ..., 0., 0., 0.],\n",
      "        [0., 0., 0.,  ..., 0., 0., 0.],\n",
      "        ...,\n",
      "        [0., 0., 0.,  ..., 0., 0., 0.],\n",
      "        [0., 0., 0.,  ..., 0., 0., 0.],\n",
      "        [0., 0., 0.,  ..., 0., 0., 0.]])\n",
      "tensor([[0.0119, 0.0161, 0.0108,  ..., 0.0145, 0.0123, 0.0163],\n",
      "        [0.0131, 0.0069, 0.0242,  ..., 0.0178, 0.0140, 0.0160],\n",
      "        [0.0110, 0.0112, 0.0188,  ..., 0.0160, 0.0200, 0.0141],\n",
      "        ...,\n",
      "        [0.0118, 0.0080, 0.0125,  ..., 0.0060, 0.0160, 0.0182],\n",
      "        [0.0121, 0.0136, 0.0171,  ..., 0.0123, 0.0145, 0.0139],\n",
      "        [0.0137, 0.0156, 0.0155,  ..., 0.0136, 0.0163, 0.0148]])\n",
      "tensor([[0., 0., 0.,  ..., 0., 0., 0.],\n",
      "        [0., 0., 0.,  ..., 0., 0., 0.],\n",
      "        [0., 0., 0.,  ..., 0., 0., 0.],\n",
      "        ...,\n",
      "        [0., 0., 0.,  ..., 0., 0., 0.],\n",
      "        [0., 0., 0.,  ..., 0., 0., 0.],\n",
      "        [0., 0., 0.,  ..., 0., 0., 0.]])\n",
      "tensor([[0.0147, 0.0151, 0.0089,  ..., 0.0145, 0.0148, 0.0124],\n",
      "        [0.0097, 0.0051, 0.0176,  ..., 0.0070, 0.0084, 0.0098],\n",
      "        [0.0080, 0.0083, 0.0160,  ..., 0.0112, 0.0135, 0.0126],\n",
      "        ...,\n",
      "        [0.0120, 0.0071, 0.0127,  ..., 0.0052, 0.0090, 0.0088],\n",
      "        [0.0111, 0.0127, 0.0117,  ..., 0.0113, 0.0102, 0.0101],\n",
      "        [0.0115, 0.0125, 0.0105,  ..., 0.0101, 0.0107, 0.0094]])\n",
      "tensor([[0., 0., 0.,  ..., 0., 0., 0.],\n",
      "        [0., 0., 0.,  ..., 0., 0., 0.],\n",
      "        [0., 0., 0.,  ..., 0., 0., 0.],\n",
      "        ...,\n",
      "        [0., 0., 0.,  ..., 0., 0., 0.],\n",
      "        [0., 0., 0.,  ..., 0., 0., 0.],\n",
      "        [0., 0., 0.,  ..., 0., 0., 0.]])\n",
      "tensor([[0.0108, 0.0081, 0.0118,  ..., 0.0096, 0.0132, 0.0116],\n",
      "        [0.0087, 0.0090, 0.0123,  ..., 0.0132, 0.0094, 0.0136],\n",
      "        [0.0099, 0.0095, 0.0227,  ..., 0.0152, 0.0157, 0.0110],\n",
      "        ...,\n",
      "        [0.0106, 0.0135, 0.0100,  ..., 0.0102, 0.0100, 0.0127],\n",
      "        [0.0129, 0.0082, 0.0112,  ..., 0.0085, 0.0112, 0.0089],\n",
      "        [0.0118, 0.0170, 0.0097,  ..., 0.0144, 0.0123, 0.0122]])\n",
      "tensor([[0., 0., 0.,  ..., 0., 0., 0.],\n",
      "        [0., 0., 0.,  ..., 0., 0., 0.],\n",
      "        [0., 0., 0.,  ..., 0., 0., 0.],\n",
      "        ...,\n",
      "        [0., 0., 0.,  ..., 0., 0., 0.],\n",
      "        [0., 0., 0.,  ..., 0., 0., 0.],\n",
      "        [0., 0., 0.,  ..., 0., 0., 0.]])\n",
      "tensor([[0.0141, 0.0126, 0.0144,  ..., 0.0148, 0.0149, 0.0151],\n",
      "        [0.0125, 0.0114, 0.0177,  ..., 0.0175, 0.0113, 0.0149],\n",
      "        [0.0123, 0.0102, 0.0243,  ..., 0.0169, 0.0190, 0.0118],\n",
      "        ...,\n",
      "        [0.0112, 0.0162, 0.0109,  ..., 0.0115, 0.0100, 0.0168],\n",
      "        [0.0145, 0.0130, 0.0141,  ..., 0.0116, 0.0126, 0.0128],\n",
      "        [0.0105, 0.0179, 0.0113,  ..., 0.0179, 0.0140, 0.0154]])\n",
      "tensor([[0., 0., 0.,  ..., 0., 0., 0.],\n",
      "        [0., 0., 0.,  ..., 0., 0., 0.],\n",
      "        [0., 0., 0.,  ..., 0., 0., 0.],\n",
      "        ...,\n",
      "        [0., 0., 0.,  ..., 0., 0., 0.],\n",
      "        [0., 0., 0.,  ..., 0., 0., 0.],\n",
      "        [0., 0., 0.,  ..., 0., 0., 0.]])\n"
     ]
    },
    {
     "name": "stdout",
     "output_type": "stream",
     "text": [
      "tensor([[0.0145, 0.0154, 0.0147,  ..., 0.0145, 0.0155, 0.0158],\n",
      "        [0.0140, 0.0156, 0.0129,  ..., 0.0196, 0.0170, 0.0149],\n",
      "        [0.0139, 0.0148, 0.0160,  ..., 0.0168, 0.0195, 0.0149],\n",
      "        ...,\n",
      "        [0.0150, 0.0120, 0.0175,  ..., 0.0086, 0.0216, 0.0184],\n",
      "        [0.0136, 0.0125, 0.0172,  ..., 0.0130, 0.0162, 0.0152],\n",
      "        [0.0179, 0.0149, 0.0206,  ..., 0.0137, 0.0190, 0.0148]])\n",
      "tensor([[0., 0., 0.,  ..., 0., 0., 0.],\n",
      "        [0., 0., 0.,  ..., 0., 0., 0.],\n",
      "        [0., 0., 0.,  ..., 0., 0., 0.],\n",
      "        ...,\n",
      "        [0., 0., 0.,  ..., 0., 0., 0.],\n",
      "        [0., 0., 0.,  ..., 0., 0., 0.],\n",
      "        [0., 0., 0.,  ..., 0., 0., 0.]])\n",
      "tensor([[0.0146, 0.0110, 0.0114,  ..., 0.0145, 0.0140, 0.0138],\n",
      "        [0.0105, 0.0090, 0.0154,  ..., 0.0139, 0.0089, 0.0182],\n",
      "        [0.0104, 0.0137, 0.0167,  ..., 0.0139, 0.0201, 0.0119],\n",
      "        ...,\n",
      "        [0.0139, 0.0129, 0.0141,  ..., 0.0078, 0.0111, 0.0139],\n",
      "        [0.0144, 0.0123, 0.0156,  ..., 0.0132, 0.0119, 0.0108],\n",
      "        [0.0114, 0.0146, 0.0101,  ..., 0.0139, 0.0110, 0.0138]])\n",
      "tensor([[0., 0., 0.,  ..., 0., 0., 0.],\n",
      "        [0., 0., 0.,  ..., 0., 0., 0.],\n",
      "        [0., 0., 0.,  ..., 0., 0., 0.],\n",
      "        ...,\n",
      "        [0., 0., 0.,  ..., 0., 0., 0.],\n",
      "        [0., 0., 0.,  ..., 0., 0., 0.],\n",
      "        [0., 0., 0.,  ..., 0., 0., 0.]])\n",
      "tensor([[0.0111, 0.0092, 0.0093,  ..., 0.0127, 0.0095, 0.0129],\n",
      "        [0.0103, 0.0070, 0.0117,  ..., 0.0146, 0.0091, 0.0130],\n",
      "        [0.0105, 0.0152, 0.0123,  ..., 0.0101, 0.0163, 0.0093],\n",
      "        ...,\n",
      "        [0.0086, 0.0071, 0.0098,  ..., 0.0046, 0.0142, 0.0158],\n",
      "        [0.0107, 0.0100, 0.0148,  ..., 0.0112, 0.0086, 0.0096],\n",
      "        [0.0081, 0.0097, 0.0092,  ..., 0.0097, 0.0091, 0.0090]])\n",
      "tensor([[0., 0., 0.,  ..., 0., 0., 0.],\n",
      "        [0., 0., 0.,  ..., 0., 0., 0.],\n",
      "        [0., 0., 0.,  ..., 0., 0., 0.],\n",
      "        ...,\n",
      "        [0., 0., 0.,  ..., 0., 0., 0.],\n",
      "        [0., 0., 0.,  ..., 0., 0., 0.],\n",
      "        [0., 0., 0.,  ..., 0., 0., 0.]])\n",
      "tensor([[0.0167, 0.0155, 0.0155,  ..., 0.0184, 0.0172, 0.0178],\n",
      "        [0.0140, 0.0190, 0.0215,  ..., 0.0271, 0.0135, 0.0187],\n",
      "        [0.0135, 0.0144, 0.0184,  ..., 0.0179, 0.0223, 0.0162],\n",
      "        ...,\n",
      "        [0.0143, 0.0209, 0.0175,  ..., 0.0115, 0.0171, 0.0180],\n",
      "        [0.0138, 0.0153, 0.0164,  ..., 0.0153, 0.0133, 0.0164],\n",
      "        [0.0155, 0.0150, 0.0164,  ..., 0.0155, 0.0170, 0.0164]])\n",
      "tensor([[0., 0., 0.,  ..., 0., 0., 0.],\n",
      "        [0., 0., 0.,  ..., 0., 0., 0.],\n",
      "        [0., 0., 0.,  ..., 0., 0., 0.],\n",
      "        ...,\n",
      "        [0., 0., 0.,  ..., 0., 0., 0.],\n",
      "        [0., 0., 0.,  ..., 0., 0., 0.],\n",
      "        [0., 0., 0.,  ..., 0., 0., 0.]])\n",
      "tensor([[0.0120, 0.0080, 0.0109,  ..., 0.0099, 0.0112, 0.0103],\n",
      "        [0.0128, 0.0058, 0.0118,  ..., 0.0137, 0.0082, 0.0134],\n",
      "        [0.0093, 0.0087, 0.0177,  ..., 0.0101, 0.0182, 0.0094],\n",
      "        ...,\n",
      "        [0.0108, 0.0063, 0.0095,  ..., 0.0048, 0.0130, 0.0134],\n",
      "        [0.0093, 0.0085, 0.0138,  ..., 0.0083, 0.0105, 0.0100],\n",
      "        [0.0099, 0.0123, 0.0119,  ..., 0.0116, 0.0127, 0.0106]])\n",
      "tensor([[0., 0., 0.,  ..., 0., 0., 0.],\n",
      "        [0., 0., 0.,  ..., 0., 0., 0.],\n",
      "        [0., 0., 0.,  ..., 0., 0., 0.],\n",
      "        ...,\n",
      "        [0., 0., 0.,  ..., 0., 0., 0.],\n",
      "        [0., 0., 0.,  ..., 0., 0., 0.],\n",
      "        [0., 0., 0.,  ..., 0., 0., 0.]])\n",
      "tensor([[0.0139, 0.0119, 0.0123,  ..., 0.0148, 0.0137, 0.0134],\n",
      "        [0.0112, 0.0089, 0.0147,  ..., 0.0114, 0.0102, 0.0106],\n",
      "        [0.0114, 0.0101, 0.0140,  ..., 0.0136, 0.0155, 0.0128],\n",
      "        ...,\n",
      "        [0.0104, 0.0096, 0.0146,  ..., 0.0061, 0.0124, 0.0112],\n",
      "        [0.0105, 0.0116, 0.0143,  ..., 0.0120, 0.0097, 0.0131],\n",
      "        [0.0107, 0.0112, 0.0131,  ..., 0.0109, 0.0121, 0.0110]])\n",
      "tensor([[0., 0., 0.,  ..., 0., 0., 0.],\n",
      "        [0., 0., 0.,  ..., 0., 0., 0.],\n",
      "        [0., 0., 0.,  ..., 0., 0., 0.],\n",
      "        ...,\n",
      "        [0., 0., 0.,  ..., 0., 0., 0.],\n",
      "        [0., 0., 0.,  ..., 0., 0., 0.],\n",
      "        [0., 0., 0.,  ..., 0., 0., 0.]])\n",
      "tensor([[0.0130, 0.0128, 0.0094,  ..., 0.0131, 0.0122, 0.0133],\n",
      "        [0.0104, 0.0058, 0.0112,  ..., 0.0160, 0.0109, 0.0143],\n",
      "        [0.0091, 0.0105, 0.0134,  ..., 0.0113, 0.0165, 0.0112],\n",
      "        ...,\n",
      "        [0.0097, 0.0068, 0.0099,  ..., 0.0043, 0.0130, 0.0138],\n",
      "        [0.0099, 0.0114, 0.0137,  ..., 0.0125, 0.0117, 0.0123],\n",
      "        [0.0130, 0.0122, 0.0131,  ..., 0.0112, 0.0140, 0.0119]])\n",
      "tensor([[0., 0., 0.,  ..., 0., 0., 0.],\n",
      "        [0., 0., 0.,  ..., 0., 0., 0.],\n",
      "        [0., 0., 0.,  ..., 0., 0., 0.],\n",
      "        ...,\n",
      "        [0., 0., 0.,  ..., 0., 0., 0.],\n",
      "        [0., 0., 0.,  ..., 0., 0., 0.],\n",
      "        [0., 0., 0.,  ..., 0., 0., 0.]])\n",
      "tensor([[0.0129, 0.0166, 0.0141,  ..., 0.0163, 0.0159, 0.0162],\n",
      "        [0.0106, 0.0165, 0.0184,  ..., 0.0168, 0.0145, 0.0113],\n",
      "        [0.0130, 0.0152, 0.0186,  ..., 0.0169, 0.0151, 0.0154],\n",
      "        ...,\n",
      "        [0.0114, 0.0127, 0.0159,  ..., 0.0097, 0.0153, 0.0148],\n",
      "        [0.0140, 0.0130, 0.0138,  ..., 0.0124, 0.0125, 0.0127],\n",
      "        [0.0132, 0.0138, 0.0147,  ..., 0.0114, 0.0135, 0.0108]])\n",
      "tensor([[0., 0., 0.,  ..., 0., 0., 0.],\n",
      "        [0., 0., 0.,  ..., 0., 0., 0.],\n",
      "        [0., 0., 0.,  ..., 0., 0., 0.],\n",
      "        ...,\n",
      "        [0., 0., 0.,  ..., 0., 0., 0.],\n",
      "        [0., 0., 0.,  ..., 0., 0., 0.],\n",
      "        [0., 0., 0.,  ..., 0., 0., 0.]])\n",
      "tensor([[0.0099, 0.0085, 0.0095,  ..., 0.0118, 0.0112, 0.0111],\n",
      "        [0.0070, 0.0083, 0.0138,  ..., 0.0129, 0.0065, 0.0105],\n",
      "        [0.0078, 0.0088, 0.0134,  ..., 0.0103, 0.0139, 0.0090],\n",
      "        ...,\n",
      "        [0.0088, 0.0122, 0.0103,  ..., 0.0071, 0.0081, 0.0105],\n",
      "        [0.0106, 0.0089, 0.0090,  ..., 0.0084, 0.0068, 0.0077],\n",
      "        [0.0075, 0.0100, 0.0075,  ..., 0.0094, 0.0088, 0.0089]])\n",
      "tensor([[0., 0., 0.,  ..., 0., 0., 0.],\n",
      "        [0., 0., 0.,  ..., 0., 0., 0.],\n",
      "        [0., 0., 0.,  ..., 0., 0., 0.],\n",
      "        ...,\n",
      "        [0., 0., 0.,  ..., 0., 0., 0.],\n",
      "        [0., 0., 0.,  ..., 0., 0., 0.],\n",
      "        [0., 0., 0.,  ..., 0., 0., 0.]])\n",
      "tensor([[0.0117, 0.0107, 0.0127,  ..., 0.0121, 0.0139, 0.0130],\n",
      "        [0.0092, 0.0128, 0.0140,  ..., 0.0179, 0.0109, 0.0119],\n",
      "        [0.0108, 0.0086, 0.0167,  ..., 0.0179, 0.0168, 0.0126],\n",
      "        ...,\n",
      "        [0.0116, 0.0143, 0.0144,  ..., 0.0090, 0.0121, 0.0124],\n",
      "        [0.0111, 0.0089, 0.0114,  ..., 0.0095, 0.0107, 0.0117],\n",
      "        [0.0135, 0.0144, 0.0147,  ..., 0.0129, 0.0165, 0.0131]])\n",
      "tensor([[0., 0., 0.,  ..., 0., 0., 0.],\n",
      "        [0., 0., 0.,  ..., 0., 0., 0.],\n",
      "        [0., 0., 0.,  ..., 0., 0., 0.],\n",
      "        ...,\n",
      "        [0., 0., 0.,  ..., 0., 0., 0.],\n",
      "        [0., 0., 0.,  ..., 0., 0., 0.],\n",
      "        [0., 0., 0.,  ..., 0., 0., 0.]])\n",
      "tensor([[0.0103, 0.0083, 0.0114,  ..., 0.0080, 0.0120, 0.0101],\n",
      "        [0.0092, 0.0087, 0.0129,  ..., 0.0233, 0.0097, 0.0157],\n",
      "        [0.0100, 0.0087, 0.0231,  ..., 0.0119, 0.0157, 0.0104],\n",
      "        ...,\n",
      "        [0.0088, 0.0125, 0.0090,  ..., 0.0113, 0.0095, 0.0131],\n",
      "        [0.0122, 0.0083, 0.0130,  ..., 0.0077, 0.0117, 0.0082],\n",
      "        [0.0091, 0.0147, 0.0088,  ..., 0.0123, 0.0107, 0.0101]])\n",
      "tensor([[0., 0., 0.,  ..., 0., 0., 0.],\n",
      "        [0., 0., 0.,  ..., 0., 0., 0.],\n",
      "        [0., 0., 0.,  ..., 0., 0., 0.],\n",
      "        ...,\n",
      "        [0., 0., 0.,  ..., 0., 0., 0.],\n",
      "        [0., 0., 0.,  ..., 0., 0., 0.],\n",
      "        [0., 0., 0.,  ..., 0., 0., 0.]])\n",
      "tensor([[0.0175, 0.0157, 0.0136,  ..., 0.0163, 0.0163, 0.0161],\n",
      "        [0.0140, 0.0070, 0.0180,  ..., 0.0181, 0.0149, 0.0204],\n",
      "        [0.0124, 0.0136, 0.0175,  ..., 0.0152, 0.0231, 0.0131],\n",
      "        ...,\n",
      "        [0.0145, 0.0131, 0.0152,  ..., 0.0106, 0.0144, 0.0216],\n",
      "        [0.0170, 0.0168, 0.0175,  ..., 0.0157, 0.0148, 0.0126],\n",
      "        [0.0120, 0.0163, 0.0126,  ..., 0.0169, 0.0142, 0.0166]])\n",
      "tensor([[0., 0., 0.,  ..., 0., 0., 0.],\n",
      "        [0., 0., 0.,  ..., 0., 0., 0.],\n",
      "        [0., 0., 0.,  ..., 0., 0., 0.],\n",
      "        ...,\n",
      "        [0., 0., 0.,  ..., 0., 0., 0.],\n",
      "        [0., 0., 0.,  ..., 0., 0., 0.],\n",
      "        [0., 0., 0.,  ..., 0., 0., 0.]])\n",
      "tensor([[0.0175, 0.0091, 0.0175,  ..., 0.0117, 0.0173, 0.0143],\n",
      "        [0.0147, 0.0104, 0.0162,  ..., 0.0188, 0.0142, 0.0241],\n",
      "        [0.0143, 0.0126, 0.0283,  ..., 0.0180, 0.0293, 0.0133],\n",
      "        ...,\n",
      "        [0.0151, 0.0144, 0.0164,  ..., 0.0100, 0.0170, 0.0236],\n",
      "        [0.0153, 0.0111, 0.0199,  ..., 0.0116, 0.0146, 0.0114],\n",
      "        [0.0128, 0.0197, 0.0137,  ..., 0.0196, 0.0155, 0.0153]])\n",
      "tensor([[0., 0., 0.,  ..., 0., 0., 0.],\n",
      "        [0., 0., 0.,  ..., 0., 0., 0.],\n",
      "        [0., 0., 0.,  ..., 0., 0., 0.],\n",
      "        ...,\n",
      "        [0., 0., 0.,  ..., 0., 0., 0.],\n",
      "        [0., 0., 0.,  ..., 0., 0., 0.],\n",
      "        [0., 0., 0.,  ..., 0., 0., 0.]])\n",
      "tensor([[0.0116, 0.0108, 0.0103,  ..., 0.0131, 0.0116, 0.0141],\n",
      "        [0.0077, 0.0114, 0.0128,  ..., 0.0148, 0.0102, 0.0135],\n",
      "        [0.0100, 0.0130, 0.0133,  ..., 0.0134, 0.0150, 0.0112],\n",
      "        ...,\n",
      "        [0.0090, 0.0109, 0.0127,  ..., 0.0058, 0.0112, 0.0143],\n",
      "        [0.0108, 0.0112, 0.0130,  ..., 0.0124, 0.0096, 0.0110],\n",
      "        [0.0100, 0.0118, 0.0105,  ..., 0.0106, 0.0106, 0.0108]])\n",
      "tensor([[0., 0., 0.,  ..., 0., 0., 0.],\n",
      "        [0., 0., 0.,  ..., 0., 0., 0.],\n",
      "        [0., 0., 0.,  ..., 0., 0., 0.],\n",
      "        ...,\n",
      "        [0., 0., 0.,  ..., 0., 0., 0.],\n",
      "        [0., 0., 0.,  ..., 0., 0., 0.],\n",
      "        [0., 0., 0.,  ..., 0., 0., 0.]])\n",
      "tensor([[0.0118, 0.0112, 0.0097,  ..., 0.0124, 0.0113, 0.0130],\n",
      "        [0.0112, 0.0070, 0.0151,  ..., 0.0156, 0.0109, 0.0169],\n",
      "        [0.0099, 0.0100, 0.0138,  ..., 0.0109, 0.0172, 0.0121],\n",
      "        ...,\n",
      "        [0.0113, 0.0118, 0.0125,  ..., 0.0072, 0.0140, 0.0151],\n",
      "        [0.0126, 0.0124, 0.0142,  ..., 0.0118, 0.0105, 0.0104],\n",
      "        [0.0115, 0.0116, 0.0114,  ..., 0.0116, 0.0125, 0.0124]])\n",
      "tensor([[0., 0., 0.,  ..., 0., 0., 0.],\n",
      "        [0., 0., 0.,  ..., 0., 0., 0.],\n",
      "        [0., 0., 0.,  ..., 0., 0., 0.],\n",
      "        ...,\n",
      "        [0., 0., 0.,  ..., 0., 0., 0.],\n",
      "        [0., 0., 0.,  ..., 0., 0., 0.],\n",
      "        [0., 0., 0.,  ..., 0., 0., 0.]])\n",
      "tensor([[0.0124, 0.0126, 0.0139,  ..., 0.0151, 0.0131, 0.0133],\n",
      "        [0.0136, 0.0150, 0.0135,  ..., 0.0142, 0.0137, 0.0133],\n",
      "        [0.0120, 0.0118, 0.0144,  ..., 0.0151, 0.0164, 0.0122],\n",
      "        ...,\n",
      "        [0.0141, 0.0126, 0.0171,  ..., 0.0090, 0.0157, 0.0139],\n",
      "        [0.0122, 0.0124, 0.0139,  ..., 0.0127, 0.0119, 0.0121],\n",
      "        [0.0126, 0.0133, 0.0160,  ..., 0.0116, 0.0139, 0.0127]])\n",
      "tensor([[0., 0., 0.,  ..., 0., 0., 0.],\n",
      "        [0., 0., 0.,  ..., 0., 0., 0.],\n",
      "        [0., 0., 0.,  ..., 0., 0., 0.],\n",
      "        ...,\n",
      "        [0., 0., 0.,  ..., 0., 0., 0.],\n",
      "        [0., 0., 0.,  ..., 0., 0., 0.],\n",
      "        [0., 0., 0.,  ..., 0., 0., 0.]])\n",
      "tensor([[0.0133, 0.0110, 0.0139,  ..., 0.0132, 0.0146, 0.0165],\n",
      "        [0.0105, 0.0096, 0.0142,  ..., 0.0135, 0.0138, 0.0131],\n",
      "        [0.0132, 0.0177, 0.0208,  ..., 0.0161, 0.0155, 0.0140],\n",
      "        ...,\n",
      "        [0.0108, 0.0103, 0.0146,  ..., 0.0086, 0.0175, 0.0156],\n",
      "        [0.0135, 0.0119, 0.0164,  ..., 0.0134, 0.0123, 0.0122],\n",
      "        [0.0127, 0.0142, 0.0128,  ..., 0.0119, 0.0124, 0.0106]])\n",
      "tensor([[0., 0., 0.,  ..., 0., 0., 0.],\n",
      "        [0., 0., 0.,  ..., 0., 0., 0.],\n",
      "        [0., 0., 0.,  ..., 0., 0., 0.],\n",
      "        ...,\n",
      "        [0., 0., 0.,  ..., 0., 0., 0.],\n",
      "        [0., 0., 0.,  ..., 0., 0., 0.],\n",
      "        [0., 0., 0.,  ..., 0., 0., 0.]])\n",
      "tensor([[0.0102, 0.0104, 0.0084,  ..., 0.0105, 0.0107, 0.0103],\n",
      "        [0.0089, 0.0045, 0.0122,  ..., 0.0082, 0.0083, 0.0072],\n",
      "        [0.0080, 0.0073, 0.0168,  ..., 0.0107, 0.0109, 0.0102],\n",
      "        ...,\n",
      "        [0.0078, 0.0046, 0.0094,  ..., 0.0041, 0.0099, 0.0074],\n",
      "        [0.0078, 0.0084, 0.0108,  ..., 0.0082, 0.0086, 0.0092],\n",
      "        [0.0096, 0.0104, 0.0104,  ..., 0.0079, 0.0101, 0.0068]])\n",
      "tensor([[0., 0., 0.,  ..., 0., 0., 0.],\n",
      "        [0., 0., 0.,  ..., 0., 0., 0.],\n",
      "        [0., 0., 0.,  ..., 0., 0., 0.],\n",
      "        ...,\n",
      "        [0., 0., 0.,  ..., 0., 0., 0.],\n",
      "        [0., 0., 0.,  ..., 0., 0., 0.],\n",
      "        [0., 0., 0.,  ..., 0., 0., 0.]])\n",
      "tensor([[0.0115, 0.0106, 0.0098,  ..., 0.0107, 0.0118, 0.0151],\n",
      "        [0.0093, 0.0072, 0.0154,  ..., 0.0154, 0.0122, 0.0138],\n",
      "        [0.0097, 0.0095, 0.0206,  ..., 0.0150, 0.0152, 0.0124],\n",
      "        ...,\n",
      "        [0.0099, 0.0143, 0.0131,  ..., 0.0103, 0.0128, 0.0146],\n",
      "        [0.0123, 0.0119, 0.0133,  ..., 0.0112, 0.0110, 0.0112],\n",
      "        [0.0124, 0.0142, 0.0110,  ..., 0.0128, 0.0141, 0.0122]])\n",
      "tensor([[0., 0., 0.,  ..., 0., 0., 0.],\n",
      "        [0., 0., 0.,  ..., 0., 0., 0.],\n",
      "        [0., 0., 0.,  ..., 0., 0., 0.],\n",
      "        ...,\n",
      "        [0., 0., 0.,  ..., 0., 0., 0.],\n",
      "        [0., 0., 0.,  ..., 0., 0., 0.],\n",
      "        [0., 0., 0.,  ..., 0., 0., 0.]])\n",
      "tensor([[0.0122, 0.0160, 0.0099,  ..., 0.0136, 0.0127, 0.0129],\n",
      "        [0.0130, 0.0043, 0.0186,  ..., 0.0120, 0.0085, 0.0087],\n",
      "        [0.0108, 0.0081, 0.0159,  ..., 0.0105, 0.0130, 0.0131],\n",
      "        ...,\n",
      "        [0.0102, 0.0054, 0.0092,  ..., 0.0059, 0.0114, 0.0096],\n",
      "        [0.0110, 0.0119, 0.0142,  ..., 0.0099, 0.0116, 0.0132],\n",
      "        [0.0106, 0.0120, 0.0130,  ..., 0.0100, 0.0133, 0.0103]])\n",
      "tensor([[0., 0., 0.,  ..., 0., 0., 0.],\n",
      "        [0., 0., 0.,  ..., 0., 0., 0.],\n",
      "        [0., 0., 0.,  ..., 0., 0., 0.],\n",
      "        ...,\n",
      "        [0., 0., 0.,  ..., 0., 0., 0.],\n",
      "        [0., 0., 0.,  ..., 0., 0., 0.],\n",
      "        [0., 0., 0.,  ..., 0., 0., 0.]])\n",
      "tensor([[0.0118, 0.0130, 0.0097,  ..., 0.0106, 0.0130, 0.0118],\n",
      "        [0.0086, 0.0060, 0.0174,  ..., 0.0154, 0.0074, 0.0150],\n",
      "        [0.0094, 0.0068, 0.0177,  ..., 0.0104, 0.0168, 0.0131],\n",
      "        ...,\n",
      "        [0.0089, 0.0081, 0.0103,  ..., 0.0058, 0.0082, 0.0127],\n",
      "        [0.0114, 0.0119, 0.0144,  ..., 0.0093, 0.0120, 0.0121],\n",
      "        [0.0091, 0.0131, 0.0104,  ..., 0.0114, 0.0118, 0.0124]])\n",
      "tensor([[0., 0., 0.,  ..., 0., 0., 0.],\n",
      "        [0., 0., 0.,  ..., 0., 0., 0.],\n",
      "        [0., 0., 0.,  ..., 0., 0., 0.],\n",
      "        ...,\n",
      "        [0., 0., 0.,  ..., 0., 0., 0.],\n",
      "        [0., 0., 0.,  ..., 0., 0., 0.],\n",
      "        [0., 0., 0.,  ..., 0., 0., 0.]])\n",
      "tensor([[0.0123, 0.0118, 0.0121,  ..., 0.0169, 0.0133, 0.0140],\n",
      "        [0.0099, 0.0111, 0.0167,  ..., 0.0133, 0.0092, 0.0116],\n",
      "        [0.0099, 0.0109, 0.0139,  ..., 0.0126, 0.0149, 0.0120],\n",
      "        ...,\n",
      "        [0.0095, 0.0113, 0.0134,  ..., 0.0070, 0.0111, 0.0122],\n",
      "        [0.0106, 0.0128, 0.0111,  ..., 0.0124, 0.0080, 0.0116],\n",
      "        [0.0092, 0.0107, 0.0114,  ..., 0.0101, 0.0108, 0.0102]])\n",
      "tensor([[0., 0., 0.,  ..., 0., 0., 0.],\n",
      "        [0., 0., 0.,  ..., 0., 0., 0.],\n",
      "        [0., 0., 0.,  ..., 0., 0., 0.],\n",
      "        ...,\n",
      "        [0., 0., 0.,  ..., 0., 0., 0.],\n",
      "        [0., 0., 0.,  ..., 0., 0., 0.],\n",
      "        [0., 0., 0.,  ..., 0., 0., 0.]])\n"
     ]
    },
    {
     "name": "stdout",
     "output_type": "stream",
     "text": [
      "tensor([[0.0155, 0.0129, 0.0166,  ..., 0.0153, 0.0165, 0.0144],\n",
      "        [0.0143, 0.0111, 0.0172,  ..., 0.0157, 0.0119, 0.0168],\n",
      "        [0.0135, 0.0133, 0.0205,  ..., 0.0156, 0.0196, 0.0135],\n",
      "        ...,\n",
      "        [0.0131, 0.0110, 0.0126,  ..., 0.0082, 0.0139, 0.0159],\n",
      "        [0.0131, 0.0135, 0.0173,  ..., 0.0138, 0.0147, 0.0144],\n",
      "        [0.0123, 0.0174, 0.0145,  ..., 0.0157, 0.0139, 0.0155]])\n",
      "tensor([[0., 0., 0.,  ..., 0., 0., 0.],\n",
      "        [0., 0., 0.,  ..., 0., 0., 0.],\n",
      "        [0., 0., 0.,  ..., 0., 0., 0.],\n",
      "        ...,\n",
      "        [0., 0., 0.,  ..., 0., 0., 0.],\n",
      "        [0., 0., 0.,  ..., 0., 0., 0.],\n",
      "        [0., 0., 0.,  ..., 0., 0., 0.]])\n",
      "tensor([[0.0124, 0.0124, 0.0117,  ..., 0.0142, 0.0135, 0.0151],\n",
      "        [0.0105, 0.0076, 0.0197,  ..., 0.0167, 0.0105, 0.0117],\n",
      "        [0.0095, 0.0098, 0.0177,  ..., 0.0137, 0.0159, 0.0114],\n",
      "        ...,\n",
      "        [0.0098, 0.0109, 0.0110,  ..., 0.0078, 0.0118, 0.0139],\n",
      "        [0.0106, 0.0119, 0.0123,  ..., 0.0111, 0.0101, 0.0119],\n",
      "        [0.0105, 0.0142, 0.0119,  ..., 0.0119, 0.0132, 0.0120]])\n",
      "tensor([[0., 0., 0.,  ..., 0., 0., 0.],\n",
      "        [0., 0., 0.,  ..., 0., 0., 0.],\n",
      "        [0., 0., 0.,  ..., 0., 0., 0.],\n",
      "        ...,\n",
      "        [0., 0., 0.,  ..., 0., 0., 0.],\n",
      "        [0., 0., 0.,  ..., 0., 0., 0.],\n",
      "        [0., 0., 0.,  ..., 0., 0., 0.]])\n"
     ]
    },
    {
     "data": {
      "image/png": "[encoded data removed]",
      "text/plain": [
       "<Figure size 432x288 with 1 Axes>"
      ]
     },
     "metadata": {},
     "output_type": "display_data"
    },
    {
     "data": {
      "image/png": "[encoded data removed]",
      "text/plain": [
       "<Figure size 432x288 with 1 Axes>"
      ]
     },
     "metadata": {},
     "output_type": "display_data"
    },
    {
     "data": {
      "image/png": "[encoded data removed]",
      "text/plain": [
       "<Figure size 432x288 with 1 Axes>"
      ]
     },
     "metadata": {},
     "output_type": "display_data"
    },
    {
     "data": {
      "image/png": "[encoded data removed]",
      "text/plain": [
       "<Figure size 432x288 with 1 Axes>"
      ]
     },
     "metadata": {},
     "output_type": "display_data"
    },
    {
     "data": {
      "image/png": "[encoded data removed]",
      "text/plain": [
       "<Figure size 432x288 with 1 Axes>"
      ]
     },
     "metadata": {},
     "output_type": "display_data"
    },
    {
     "data": {
      "image/png": "[encoded data removed]",
      "text/plain": [
       "<Figure size 432x288 with 1 Axes>"
      ]
     },
     "metadata": {},
     "output_type": "display_data"
    },
    {
     "data": {
      "image/png": "[encoded data removed]",
      "text/plain": [
       "<Figure size 432x288 with 1 Axes>"
      ]
     },
     "metadata": {},
     "output_type": "display_data"
    },
    {
     "data": {
      "image/png": "[encoded data removed]",
      "text/plain": [
       "<Figure size 432x288 with 1 Axes>"
      ]
     },
     "metadata": {},
     "output_type": "display_data"
    },
    {
     "data": {
      "image/png": "[encoded data removed]",
      "text/plain": [
       "<Figure size 432x288 with 1 Axes>"
      ]
     },
     "metadata": {},
     "output_type": "display_data"
    },
    {
     "data": {
      "image/png": "[encoded data removed]",
      "text/plain": [
       "<Figure size 432x288 with 1 Axes>"
      ]
     },
     "metadata": {},
     "output_type": "display_data"
    },
    {
     "data": {
      "image/png": "[encoded data removed]",
      "text/plain": [
       "<Figure size 432x288 with 1 Axes>"
      ]
     },
     "metadata": {},
     "output_type": "display_data"
    },
    {
     "data": {
      "image/png": "[encoded data removed]",
      "text/plain": [
       "<Figure size 432x288 with 1 Axes>"
      ]
     },
     "metadata": {},
     "output_type": "display_data"
    },
    {
     "data": {
      "image/png": "[encoded data removed]",
      "text/plain": [
       "<Figure size 432x288 with 1 Axes>"
      ]
     },
     "metadata": {},
     "output_type": "display_data"
    },
    {
     "data": {
      "image/png": "[encoded data removed]",
      "text/plain": [
       "<Figure size 432x288 with 1 Axes>"
      ]
     },
     "metadata": {},
     "output_type": "display_data"
    },
    {
     "data": {
      "image/png": "[encoded data removed]",
      "text/plain": [
       "<Figure size 432x288 with 1 Axes>"
      ]
     },
     "metadata": {},
     "output_type": "display_data"
    },
    {
     "data": {
      "image/png": "[encoded data removed]",
      "text/plain": [
       "<Figure size 432x288 with 1 Axes>"
      ]
     },
     "metadata": {},
     "output_type": "display_data"
    },
    {
     "data": {
      "image/png": "[encoded data removed]",
      "text/plain": [
       "<Figure size 432x288 with 1 Axes>"
      ]
     },
     "metadata": {},
     "output_type": "display_data"
    },
    {
     "data": {
      "image/png": "[encoded data removed]",
      "text/plain": [
       "<Figure size 432x288 with 1 Axes>"
      ]
     },
     "metadata": {},
     "output_type": "display_data"
    },
    {
     "data": {
      "image/png": "[encoded data removed]",
      "text/plain": [
       "<Figure size 432x288 with 1 Axes>"
      ]
     },
     "metadata": {},
     "output_type": "display_data"
    },
    {
     "data": {
      "image/png": "[encoded data removed]",
      "text/plain": [
       "<Figure size 432x288 with 1 Axes>"
      ]
     },
     "metadata": {},
     "output_type": "display_data"
    },
    {
     "data": {
      "image/png": "[encoded data removed]",
      "text/plain": [
       "<Figure size 432x288 with 1 Axes>"
      ]
     },
     "metadata": {},
     "output_type": "display_data"
    },
    {
     "data": {
      "image/png": "[encoded data removed]",
      "text/plain": [
       "<Figure size 432x288 with 1 Axes>"
      ]
     },
     "metadata": {},
     "output_type": "display_data"
    },
    {
     "data": {
      "image/png": "[encoded data removed]",
      "text/plain": [
       "<Figure size 432x288 with 1 Axes>"
      ]
     },
     "metadata": {},
     "output_type": "display_data"
    },
    {
     "data": {
      "image/png": "[encoded data removed]",
      "text/plain": [
       "<Figure size 432x288 with 1 Axes>"
      ]
     },
     "metadata": {},
     "output_type": "display_data"
    },
    {
     "data": {
      "image/png": "[encoded data removed]",
      "text/plain": [
       "<Figure size 432x288 with 1 Axes>"
      ]
     },
     "metadata": {},
     "output_type": "display_data"
    },
    {
     "data": {
      "image/png": "[encoded data removed]",
      "text/plain": [
       "<Figure size 432x288 with 1 Axes>"
      ]
     },
     "metadata": {},
     "output_type": "display_data"
    },
    {
     "data": {
      "image/png": "[encoded data removed]",
      "text/plain": [
       "<Figure size 432x288 with 1 Axes>"
      ]
     },
     "metadata": {},
     "output_type": "display_data"
    },
    {
     "data": {
      "image/png": "[encoded data removed]",
      "text/plain": [
       "<Figure size 432x288 with 1 Axes>"
      ]
     },
     "metadata": {},
     "output_type": "display_data"
    },
    {
     "data": {
      "image/png": "[encoded data removed]",
      "text/plain": [
       "<Figure size 432x288 with 1 Axes>"
      ]
     },
     "metadata": {},
     "output_type": "display_data"
    },
    {
     "data": {
      "image/png": "[encoded data removed]",
      "text/plain": [
       "<Figure size 432x288 with 1 Axes>"
      ]
     },
     "metadata": {},
     "output_type": "display_data"
    },
    {
     "data": {
      "image/png": "[encoded data removed]",
      "text/plain": [
       "<Figure size 432x288 with 1 Axes>"
      ]
     },
     "metadata": {},
     "output_type": "display_data"
    },
    {
     "data": {
      "image/png": "[encoded data removed]",
      "text/plain": [
       "<Figure size 432x288 with 1 Axes>"
      ]
     },
     "metadata": {},
     "output_type": "display_data"
    },
    {
     "data": {
      "image/png": "[encoded data removed]",
      "text/plain": [
       "<Figure size 432x288 with 1 Axes>"
      ]
     },
     "metadata": {},
     "output_type": "display_data"
    },
    {
     "data": {
      "image/png": "[encoded data removed]",
      "text/plain": [
       "<Figure size 432x288 with 1 Axes>"
      ]
     },
     "metadata": {},
     "output_type": "display_data"
    },
    {
     "data": {
      "image/png": "[encoded data removed]",
      "text/plain": [
       "<Figure size 432x288 with 1 Axes>"
      ]
     },
     "metadata": {},
     "output_type": "display_data"
    },
    {
     "data": {
      "image/png": "[encoded data removed]",
      "text/plain": [
       "<Figure size 432x288 with 1 Axes>"
      ]
     },
     "metadata": {},
     "output_type": "display_data"
    },
    {
     "data": {
      "image/png": "[encoded data removed]",
      "text/plain": [
       "<Figure size 432x288 with 1 Axes>"
      ]
     },
     "metadata": {},
     "output_type": "display_data"
    },
    {
     "data": {
      "image/png": "[encoded data removed]",
      "text/plain": [
       "<Figure size 432x288 with 1 Axes>"
      ]
     },
     "metadata": {},
     "output_type": "display_data"
    },
    {
     "data": {
      "image/png": "[encoded data removed]",
      "text/plain": [
       "<Figure size 432x288 with 1 Axes>"
      ]
     },
     "metadata": {},
     "output_type": "display_data"
    },
    {
     "data": {
      "image/png": "[encoded data removed]",
      "text/plain": [
       "<Figure size 432x288 with 1 Axes>"
      ]
     },
     "metadata": {},
     "output_type": "display_data"
    },
    {
     "data": {
      "image/png": "[encoded data removed]",
      "text/plain": [
       "<Figure size 432x288 with 1 Axes>"
      ]
     },
     "metadata": {},
     "output_type": "display_data"
    },
    {
     "data": {
      "image/png": "[encoded data removed]",
      "text/plain": [
       "<Figure size 432x288 with 1 Axes>"
      ]
     },
     "metadata": {},
     "output_type": "display_data"
    },
    {
     "data": {
      "image/png": "[encoded data removed]",
      "text/plain": [
       "<Figure size 432x288 with 1 Axes>"
      ]
     },
     "metadata": {},
     "output_type": "display_data"
    },
    {
     "data": {
      "image/png": "[encoded data removed]",
      "text/plain": [
       "<Figure size 432x288 with 1 Axes>"
      ]
     },
     "metadata": {},
     "output_type": "display_data"
    },
    {
     "data": {
      "image/png": "[encoded data removed]",
      "text/plain": [
       "<Figure size 432x288 with 1 Axes>"
      ]
     },
     "metadata": {},
     "output_type": "display_data"
    },
    {
     "data": {
      "image/png": "[encoded data removed]",
      "text/plain": [
       "<Figure size 432x288 with 1 Axes>"
      ]
     },
     "metadata": {},
     "output_type": "display_data"
    },
    {
     "data": {
      "image/png": "[encoded data removed]",
      "text/plain": [
       "<Figure size 432x288 with 1 Axes>"
      ]
     },
     "metadata": {},
     "output_type": "display_data"
    },
    {
     "data": {
      "image/png": "[encoded data removed]",
      "text/plain": [
       "<Figure size 432x288 with 1 Axes>"
      ]
     },
     "metadata": {},
     "output_type": "display_data"
    },
    {
     "data": {
      "image/png": "[encoded data removed]",
      "text/plain": [
       "<Figure size 432x288 with 1 Axes>"
      ]
     },
     "metadata": {},
     "output_type": "display_data"
    },
    {
     "data": {
      "image/png": "[encoded data removed]",
      "text/plain": [
       "<Figure size 432x288 with 1 Axes>"
      ]
     },
     "metadata": {},
     "output_type": "display_data"
    },
    {
     "data": {
      "image/png": "[encoded data removed]",
      "text/plain": [
       "<Figure size 432x288 with 1 Axes>"
      ]
     },
     "metadata": {},
     "output_type": "display_data"
    },
    {
     "data": {
      "image/png": "[encoded data removed]",
      "text/plain": [
       "<Figure size 432x288 with 1 Axes>"
      ]
     },
     "metadata": {},
     "output_type": "display_data"
    },
    {
     "data": {
      "image/png": "[encoded data removed]",
      "text/plain": [
       "<Figure size 432x288 with 1 Axes>"
      ]
     },
     "metadata": {},
     "output_type": "display_data"
    },
    {
     "data": {
      "image/png": "[encoded data removed]",
      "text/plain": [
       "<Figure size 432x288 with 1 Axes>"
      ]
     },
     "metadata": {},
     "output_type": "display_data"
    },
    {
     "data": {
      "image/png": "[encoded data removed]",
      "text/plain": [
       "<Figure size 432x288 with 1 Axes>"
      ]
     },
     "metadata": {},
     "output_type": "display_data"
    },
    {
     "data": {
      "image/png": "[encoded data removed]",
      "text/plain": [
       "<Figure size 432x288 with 1 Axes>"
      ]
     },
     "metadata": {},
     "output_type": "display_data"
    },
    {
     "data": {
      "image/png": "[encoded data removed]",
      "text/plain": [
       "<Figure size 432x288 with 1 Axes>"
      ]
     },
     "metadata": {},
     "output_type": "display_data"
    },
    {
     "data": {
      "image/png": "[encoded data removed]",
      "text/plain": [
       "<Figure size 432x288 with 1 Axes>"
      ]
     },
     "metadata": {},
     "output_type": "display_data"
    },
    {
     "data": {
      "image/png": "[encoded data removed]",
      "text/plain": [
       "<Figure size 432x288 with 1 Axes>"
      ]
     },
     "metadata": {},
     "output_type": "display_data"
    },
    {
     "data": {
      "image/png": "[encoded data removed]",
      "text/plain": [
       "<Figure size 432x288 with 1 Axes>"
      ]
     },
     "metadata": {},
     "output_type": "display_data"
    },
    {
     "data": {
      "image/png": "[encoded data removed]",
      "text/plain": [
       "<Figure size 432x288 with 1 Axes>"
      ]
     },
     "metadata": {},
     "output_type": "display_data"
    },
    {
     "data": {
      "image/png": "[encoded data removed]",
      "text/plain": [
       "<Figure size 432x288 with 1 Axes>"
      ]
     },
     "metadata": {},
     "output_type": "display_data"
    }
   ],
   "source": [
    "\n",
    "import matplotlib.pyplot as plt\n",
    "def show(imgs):\n",
    "    if not isinstance(imgs, list):\n",
    "        imgs = [imgs]\n",
    "    fix, axs = plt.subplots(ncols=len(imgs), squeeze=False)\n",
    "    for i, img in enumerate(imgs):\n",
    "        img = img.detach()\n",
    "        img2 = (img>0.5).float()\n",
    "        print(img)\n",
    "        print(img2)\n",
    "        img = F.to_pil_image(img2)\n",
    "        axs[0, i].imshow(np.asarray(img))\n",
    "        axs[0, i].set(xticklabels=[], yticklabels=[], xticks=[], yticks=[])\n",
    "i = 0        \n",
    "for mask in masks:\n",
    "#     print(i)\n",
    "    show(mask)\n",
    "    i=i+1"
   ]
  },
  {
   "cell_type": "code",
   "execution_count": 113,
   "metadata": {},
   "outputs": [],
   "source": [
    "# from PIL import Image\n",
    "# import torchvision.transforms as T\n",
    "# transform = T.ToPILImage(mode = np.dtype(float))\n",
    "# img = npred\n",
    "# # img = torch.argmax(npred.squeeze(),dim=1)\n",
    "# print(img.size())\n",
    "# print(img[0].max())\n",
    "# image = transform(img[0])\n",
    "# new_im = ((npred - npred.min()) * (1/(npred.max() - npred.min()) * 255))\n",
    "# new_im.max()\n",
    "# image = transform(new_im)"
   ]
  },
  {
   "cell_type": "code",
   "execution_count": null,
   "metadata": {},
   "outputs": [],
   "source": [
    "# image"
   ]
  },
  {
   "cell_type": "code",
   "execution_count": null,
   "metadata": {},
   "outputs": [],
   "source": [
    "transform = T.ToPILImage()\n",
    "image = transform(batch[1])\n",
    "image"
   ]
  },
  {
   "cell_type": "code",
   "execution_count": null,
   "metadata": {},
   "outputs": [],
   "source": [
    "x"
   ]
  },
  {
   "cell_type": "code",
   "execution_count": 27,
   "metadata": {},
   "outputs": [],
   "source": [
    "torch.save(model,'./tensor_model100.pt')"
   ]
  },
  {
   "cell_type": "code",
   "execution_count": null,
   "metadata": {},
   "outputs": [],
   "source": []
  }
 ],
 "metadata": {
  "kernelspec": {
   "display_name": "Python 3",
   "language": "python",
   "name": "python3"
  },
  "language_info": {
   "codemirror_mode": {
    "name": "ipython",
    "version": 3
   },
   "file_extension": ".py",
   "mimetype": "text/x-python",
   "name": "python",
   "nbconvert_exporter": "python",
   "pygments_lexer": "ipython3",
   "version": "3.8.3"
  }
 },
 "nbformat": 4,
 "nbformat_minor": 5
}
